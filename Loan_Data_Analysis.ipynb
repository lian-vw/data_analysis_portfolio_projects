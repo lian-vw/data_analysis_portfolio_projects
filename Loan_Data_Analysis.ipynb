{
 "cells": [
  {
   "cell_type": "markdown",
   "id": "aeb8a896-4533-4609-9b1f-ba452c3fdd0e",
   "metadata": {},
   "source": [
    "## Objective\n",
    "**Clean and preprocess** loan data for the data science team.\n",
    "<br>They will create a Credit Risk Model that measures probability of default (not included in this project).\n",
    "\n",
    "---\n",
    "\n",
    "Notes from the data science team:\n",
    "- Convert all currencies to Euro\n",
    "- Quantify every categorical variable\n",
    "- When measuring **credit worthiness** be extremely risk-adverse and distrustful of any unavailable data\n",
    "- Casting directions are provided for each variable\n"
   ]
  },
  {
   "cell_type": "markdown",
   "id": "c8bdf23e-42a7-4892-8230-279da52e0055",
   "metadata": {},
   "source": [
    "## Import packages"
   ]
  },
  {
   "cell_type": "code",
   "execution_count": 2,
   "id": "bd214303-bea7-4316-a0f8-b4e8790347e4",
   "metadata": {},
   "outputs": [],
   "source": [
    "import numpy as np\n",
    "\n",
    "#Suppresses numpy's default of displaying scientific notation, allow 100 characters per line and decimal places to 2\n",
    "np.set_printoptions(suppress = True, linewidth = 100, precision = 2) "
   ]
  },
  {
   "cell_type": "markdown",
   "id": "593d4d03-8eca-42d6-87aa-e3a29b4a1488",
   "metadata": {},
   "source": [
    "## Importing the data"
   ]
  },
  {
   "cell_type": "code",
   "execution_count": 6,
   "id": "d0045636-a99d-42b0-bf57-40e70f5b35a1",
   "metadata": {
    "collapsed": true,
    "jupyter": {
     "outputs_hidden": true
    },
    "tags": []
   },
   "outputs": [
    {
     "ename": "UnicodeDecodeError",
     "evalue": "'utf-8' codec can't decode byte 0xfe in position 341: invalid start byte",
     "output_type": "error",
     "traceback": [
      "\u001b[0;31m---------------------------------------------------------------------------\u001b[0m",
      "\u001b[0;31mUnicodeDecodeError\u001b[0m                        Traceback (most recent call last)",
      "\u001b[0;32m<ipython-input-6-2e1074d15aea>\u001b[0m in \u001b[0;36m<module>\u001b[0;34m\u001b[0m\n\u001b[0;32m----> 1\u001b[0;31m \u001b[0mraw_data_np\u001b[0m \u001b[0;34m=\u001b[0m \u001b[0mnp\u001b[0m\u001b[0;34m.\u001b[0m\u001b[0mgenfromtxt\u001b[0m\u001b[0;34m(\u001b[0m\u001b[0;34m'loan-data.csv'\u001b[0m\u001b[0;34m,\u001b[0m \u001b[0mdelimiter\u001b[0m \u001b[0;34m=\u001b[0m \u001b[0;34m';'\u001b[0m\u001b[0;34m)\u001b[0m\u001b[0;34m\u001b[0m\u001b[0;34m\u001b[0m\u001b[0m\n\u001b[0m\u001b[1;32m      2\u001b[0m \u001b[0mraw_data_np\u001b[0m\u001b[0;34m\u001b[0m\u001b[0;34m\u001b[0m\u001b[0m\n",
      "\u001b[0;32m/opt/anaconda3/lib/python3.8/site-packages/numpy/lib/npyio.py\u001b[0m in \u001b[0;36mgenfromtxt\u001b[0;34m(fname, dtype, comments, delimiter, skip_header, skip_footer, converters, missing_values, filling_values, usecols, names, excludelist, deletechars, replace_space, autostrip, case_sensitive, defaultfmt, unpack, usemask, loose, invalid_raise, max_rows, encoding, like)\u001b[0m\n\u001b[1;32m   1840\u001b[0m \u001b[0;34m\u001b[0m\u001b[0m\n\u001b[1;32m   1841\u001b[0m             \u001b[0;32mwhile\u001b[0m \u001b[0;32mnot\u001b[0m \u001b[0mfirst_values\u001b[0m\u001b[0;34m:\u001b[0m\u001b[0;34m\u001b[0m\u001b[0;34m\u001b[0m\u001b[0m\n\u001b[0;32m-> 1842\u001b[0;31m                 \u001b[0mfirst_line\u001b[0m \u001b[0;34m=\u001b[0m \u001b[0m_decode_line\u001b[0m\u001b[0;34m(\u001b[0m\u001b[0mnext\u001b[0m\u001b[0;34m(\u001b[0m\u001b[0mfhd\u001b[0m\u001b[0;34m)\u001b[0m\u001b[0;34m,\u001b[0m \u001b[0mencoding\u001b[0m\u001b[0;34m)\u001b[0m\u001b[0;34m\u001b[0m\u001b[0;34m\u001b[0m\u001b[0m\n\u001b[0m\u001b[1;32m   1843\u001b[0m                 \u001b[0;32mif\u001b[0m \u001b[0;34m(\u001b[0m\u001b[0mnames\u001b[0m \u001b[0;32mis\u001b[0m \u001b[0;32mTrue\u001b[0m\u001b[0;34m)\u001b[0m \u001b[0;32mand\u001b[0m \u001b[0;34m(\u001b[0m\u001b[0mcomments\u001b[0m \u001b[0;32mis\u001b[0m \u001b[0;32mnot\u001b[0m \u001b[0;32mNone\u001b[0m\u001b[0;34m)\u001b[0m\u001b[0;34m:\u001b[0m\u001b[0;34m\u001b[0m\u001b[0;34m\u001b[0m\u001b[0m\n\u001b[1;32m   1844\u001b[0m                     \u001b[0;32mif\u001b[0m \u001b[0mcomments\u001b[0m \u001b[0;32min\u001b[0m \u001b[0mfirst_line\u001b[0m\u001b[0;34m:\u001b[0m\u001b[0;34m\u001b[0m\u001b[0;34m\u001b[0m\u001b[0m\n",
      "\u001b[0;32m/opt/anaconda3/lib/python3.8/codecs.py\u001b[0m in \u001b[0;36mdecode\u001b[0;34m(self, input, final)\u001b[0m\n\u001b[1;32m    320\u001b[0m         \u001b[0;31m# decode input (taking the buffer into account)\u001b[0m\u001b[0;34m\u001b[0m\u001b[0;34m\u001b[0m\u001b[0;34m\u001b[0m\u001b[0m\n\u001b[1;32m    321\u001b[0m         \u001b[0mdata\u001b[0m \u001b[0;34m=\u001b[0m \u001b[0mself\u001b[0m\u001b[0;34m.\u001b[0m\u001b[0mbuffer\u001b[0m \u001b[0;34m+\u001b[0m \u001b[0minput\u001b[0m\u001b[0;34m\u001b[0m\u001b[0;34m\u001b[0m\u001b[0m\n\u001b[0;32m--> 322\u001b[0;31m         \u001b[0;34m(\u001b[0m\u001b[0mresult\u001b[0m\u001b[0;34m,\u001b[0m \u001b[0mconsumed\u001b[0m\u001b[0;34m)\u001b[0m \u001b[0;34m=\u001b[0m \u001b[0mself\u001b[0m\u001b[0;34m.\u001b[0m\u001b[0m_buffer_decode\u001b[0m\u001b[0;34m(\u001b[0m\u001b[0mdata\u001b[0m\u001b[0;34m,\u001b[0m \u001b[0mself\u001b[0m\u001b[0;34m.\u001b[0m\u001b[0merrors\u001b[0m\u001b[0;34m,\u001b[0m \u001b[0mfinal\u001b[0m\u001b[0;34m)\u001b[0m\u001b[0;34m\u001b[0m\u001b[0;34m\u001b[0m\u001b[0m\n\u001b[0m\u001b[1;32m    323\u001b[0m         \u001b[0;31m# keep undecoded input until the next call\u001b[0m\u001b[0;34m\u001b[0m\u001b[0;34m\u001b[0m\u001b[0;34m\u001b[0m\u001b[0m\n\u001b[1;32m    324\u001b[0m         \u001b[0mself\u001b[0m\u001b[0;34m.\u001b[0m\u001b[0mbuffer\u001b[0m \u001b[0;34m=\u001b[0m \u001b[0mdata\u001b[0m\u001b[0;34m[\u001b[0m\u001b[0mconsumed\u001b[0m\u001b[0;34m:\u001b[0m\u001b[0;34m]\u001b[0m\u001b[0;34m\u001b[0m\u001b[0;34m\u001b[0m\u001b[0m\n",
      "\u001b[0;31mUnicodeDecodeError\u001b[0m: 'utf-8' codec can't decode byte 0xfe in position 341: invalid start byte"
     ]
    }
   ],
   "source": [
    "raw_data_np = np.genfromtxt('loan-data.csv', delimiter = ';')\n",
    "raw_data_np"
   ]
  },
  {
   "cell_type": "markdown",
   "id": "a694c049-4c8e-4470-bedb-b3cd978ce7bf",
   "metadata": {},
   "source": [
    "# ❗️❗️❗️"
   ]
  },
  {
   "cell_type": "code",
   "execution_count": 12,
   "id": "d10448ec-cb89-4c68-a96e-ee4283df6ad7",
   "metadata": {},
   "outputs": [
    {
     "data": {
      "text/plain": [
       "array([[48010226.  ,         nan,    35000.  , ...,         nan,         nan,     9452.96],\n",
       "       [57693261.  ,         nan,    30000.  , ...,         nan,         nan,     4679.7 ],\n",
       "       [59432726.  ,         nan,    15000.  , ...,         nan,         nan,     1969.83],\n",
       "       ...,\n",
       "       [50415990.  ,         nan,    10000.  , ...,         nan,         nan,     2185.64],\n",
       "       [46154151.  ,         nan,         nan, ...,         nan,         nan,     3199.4 ],\n",
       "       [66055249.  ,         nan,    10000.  , ...,         nan,         nan,      301.9 ]])"
      ]
     },
     "execution_count": 12,
     "metadata": {},
     "output_type": "execute_result"
    }
   ],
   "source": [
    "#using a different csv encoding since utf-8 can't decode some values in the csv file\n",
    "#also dropping the header column and removing all leading and trailing white spaces\n",
    "raw_data_np = np.genfromtxt('loan-data.csv', delimiter = ';', encoding = 'cp855', skip_header = 1, autostrip = True)\n",
    "raw_data_np"
   ]
  },
  {
   "cell_type": "markdown",
   "id": "3acaa72b-da65-44ff-b193-6589c953ed90",
   "metadata": {},
   "source": [
    "___"
   ]
  },
  {
   "cell_type": "markdown",
   "id": "406f885f-44e4-4b7f-907c-3713fa9f1b17",
   "metadata": {},
   "source": [
    "## Checking for incomplete data"
   ]
  },
  {
   "cell_type": "code",
   "execution_count": 13,
   "id": "b00a5f8f-c326-453c-ad89-62a5e5255380",
   "metadata": {},
   "outputs": [
    {
     "data": {
      "text/plain": [
       "88005"
      ]
     },
     "execution_count": 13,
     "metadata": {},
     "output_type": "execute_result"
    }
   ],
   "source": [
    "np.isnan(raw_data_np).sum() #number of NaN values in the dataset"
   ]
  },
  {
   "cell_type": "code",
   "execution_count": 14,
   "id": "cde17de7-3a95-4bfa-93c0-caf6ca8b3fb3",
   "metadata": {},
   "outputs": [
    {
     "name": "stderr",
     "output_type": "stream",
     "text": [
      "<ipython-input-14-0d0f1d6e721d>:2: RuntimeWarning: Mean of empty slice\n",
      "  temporary_mean = np.nanmean(raw_data_np, axis = 0) #mean for every column\n"
     ]
    }
   ],
   "source": [
    "temporary_fill = np.nanmax(raw_data_np) + 1 #creates a value higher than any value in the ds which will be used as a filler\n",
    "temporary_mean = np.nanmean(raw_data_np, axis = 0) #mean for every column ignoring means"
   ]
  },
  {
   "cell_type": "markdown",
   "id": "0cbf15fd-b5c6-4650-9069-85eab6c6bfa9",
   "metadata": {},
   "source": [
    "Above warning: mean of empty slice indicates that there are **columns containing all NaN values** or columns containing all **strings**"
   ]
  },
  {
   "cell_type": "code",
   "execution_count": 15,
   "id": "b7423c08-a3a3-4cf6-b723-a6b574db0df2",
   "metadata": {},
   "outputs": [
    {
     "data": {
      "text/plain": [
       "array([54015809.19,         nan,    15273.46,         nan,    15311.04,         nan,       16.62,\n",
       "            440.92,         nan,         nan,         nan,         nan,         nan,     3143.85])"
      ]
     },
     "execution_count": 15,
     "metadata": {},
     "output_type": "execute_result"
    }
   ],
   "source": [
    "temporary_mean"
   ]
  },
  {
   "cell_type": "markdown",
   "id": "a091f2ac-5dea-41f4-b14e-d2489611282f",
   "metadata": {},
   "source": [
    "At this point it would make sense to split this array into two arrays, a numerical and string array."
   ]
  },
  {
   "cell_type": "code",
   "execution_count": 16,
   "id": "e5f8dfe9-ee5e-45cc-8587-a08a0f3ab172",
   "metadata": {},
   "outputs": [
    {
     "name": "stderr",
     "output_type": "stream",
     "text": [
      "<ipython-input-16-373822180ae4>:2: RuntimeWarning: All-NaN slice encountered\n",
      "  temporary_stats = np.array([np.nanmin(raw_data_np, axis = 0),\n",
      "<ipython-input-16-373822180ae4>:4: RuntimeWarning: All-NaN slice encountered\n",
      "  np.nanmax(raw_data_np, axis = 0)])\n"
     ]
    }
   ],
   "source": [
    "#Store stats of each column in an array prior to split\n",
    "temporary_stats = np.array([np.nanmin(raw_data_np, axis = 0),\n",
    "                           temporary_mean,\n",
    "                           np.nanmax(raw_data_np, axis = 0)])"
   ]
  },
  {
   "cell_type": "code",
   "execution_count": 18,
   "id": "30a6b5ff-fb97-413a-bafb-efdc4a62ef8f",
   "metadata": {},
   "outputs": [
    {
     "data": {
      "text/plain": [
       "array([[  373332.  ,         nan,     1000.  ,         nan,     1000.  ,         nan,        6.  ,\n",
       "              31.42,         nan,         nan,         nan,         nan,         nan,        0.  ],\n",
       "       [54015809.19,         nan,    15273.46,         nan,    15311.04,         nan,       16.62,\n",
       "             440.92,         nan,         nan,         nan,         nan,         nan,     3143.85],\n",
       "       [68616519.  ,         nan,    35000.  ,         nan,    35000.  ,         nan,       28.99,\n",
       "            1372.97,         nan,         nan,         nan,         nan,         nan,    41913.62]])"
      ]
     },
     "execution_count": 18,
     "metadata": {},
     "output_type": "execute_result"
    }
   ],
   "source": [
    "temporary_stats"
   ]
  },
  {
   "cell_type": "markdown",
   "id": "281db478-e3d9-4484-81aa-d05169eb3c3b",
   "metadata": {},
   "source": [
    "___"
   ]
  },
  {
   "cell_type": "markdown",
   "id": "13164d13-488f-4680-8337-8158a309626f",
   "metadata": {},
   "source": [
    "## Splitting the Dataset"
   ]
  },
  {
   "cell_type": "markdown",
   "id": "a2924811-8f03-44f9-b45e-1a4a997ddd55",
   "metadata": {},
   "source": [
    "# 🧐\n",
    "For convenience we'll split the data into numerical and categorical datasets, the latter will then be numerised based on a column to column basis"
   ]
  },
  {
   "cell_type": "markdown",
   "id": "fa4afbc8-0bf1-4348-a5c7-3dba87af17a6",
   "metadata": {},
   "source": [
    "### Splitting the columns"
   ]
  },
  {
   "cell_type": "code",
   "execution_count": 155,
   "id": "42550c6b-8ba4-44fa-9bd9-970b4b8beebf",
   "metadata": {},
   "outputs": [
    {
     "data": {
      "text/plain": [
       "array([ 1,  3,  5,  8,  9, 10, 11, 12])"
      ]
     },
     "execution_count": 155,
     "metadata": {},
     "output_type": "execute_result"
    }
   ],
   "source": [
    "#argwhere test weather the argument is != zero\n",
    "#columns with just strings returns True which is != 0\n",
    "columns_strings = np.argwhere(np.isnan(temporary_mean)).squeeze() #squeeze method returns a 1 dimensional array\n",
    "columns_strings"
   ]
  },
  {
   "cell_type": "code",
   "execution_count": 156,
   "id": "1eb30c2c-3c49-40dc-af75-d6fb65a41d9b",
   "metadata": {},
   "outputs": [
    {
     "data": {
      "text/plain": [
       "array([ 0,  2,  4,  6,  7, 13])"
      ]
     },
     "execution_count": 156,
     "metadata": {},
     "output_type": "execute_result"
    }
   ],
   "source": [
    "columns_numeric = np.argwhere(np.isnan(temporary_mean) == False).squeeze()\n",
    "columns_numeric"
   ]
  },
  {
   "cell_type": "markdown",
   "id": "a69b8cd7-4150-48e1-ab69-4986e198a0eb",
   "metadata": {},
   "source": [
    "### Re-importing the dataset\n",
    "With the above constraints"
   ]
  },
  {
   "cell_type": "code",
   "execution_count": 157,
   "id": "8b5f9dd6-9e33-42dd-8fe6-2c0e83a68858",
   "metadata": {},
   "outputs": [
    {
     "data": {
      "text/plain": [
       "array([['May-15', 'Current', '36 months', ..., 'Verified',\n",
       "        'https://www.lendingclub.com/browse/loanDetail.action?loan_id=48010226', 'CA'],\n",
       "       ['', 'Current', '36 months', ..., 'Source Verified',\n",
       "        'https://www.lendingclub.com/browse/loanDetail.action?loan_id=57693261', 'NY'],\n",
       "       ['Sep-15', 'Current', '36 months', ..., 'Verified',\n",
       "        'https://www.lendingclub.com/browse/loanDetail.action?loan_id=59432726', 'PA'],\n",
       "       ...,\n",
       "       ['Jun-15', 'Current', '36 months', ..., 'Source Verified',\n",
       "        'https://www.lendingclub.com/browse/loanDetail.action?loan_id=50415990', 'CA'],\n",
       "       ['Apr-15', 'Current', '36 months', ..., 'Source Verified',\n",
       "        'https://www.lendingclub.com/browse/loanDetail.action?loan_id=46154151', 'OH'],\n",
       "       ['Dec-15', 'Current', '36 months', ..., '',\n",
       "        'https://www.lendingclub.com/browse/loanDetail.action?loan_id=66055249', 'IL']],\n",
       "      dtype='<U69')"
      ]
     },
     "execution_count": 157,
     "metadata": {},
     "output_type": "execute_result"
    }
   ],
   "source": [
    "# String dataset\n",
    "loan_data_strings = np.genfromtxt('loan-data.csv',\n",
    "                                  delimiter = ';',\n",
    "                                  skip_header = 1,\n",
    "                                  autostrip = True,\n",
    "                                  encoding = \"cp855\",\n",
    "                                  usecols = columns_strings,\n",
    "                                  dtype = str)\n",
    "loan_data_strings"
   ]
  },
  {
   "cell_type": "code",
   "execution_count": 278,
   "id": "4d7567ac-b5c8-401c-aa76-ab329e71b5b4",
   "metadata": {},
   "outputs": [
    {
     "data": {
      "text/plain": [
       "array([[48010226.  ,    35000.  ,    35000.  ,       13.33,     1184.86,     9452.96],\n",
       "       [57693261.  ,    30000.  ,    30000.  , 68616520.  ,      938.57,     4679.7 ],\n",
       "       [59432726.  ,    15000.  ,    15000.  , 68616520.  ,      494.86,     1969.83],\n",
       "       ...,\n",
       "       [50415990.  ,    10000.  ,    10000.  , 68616520.  , 68616520.  ,     2185.64],\n",
       "       [46154151.  , 68616520.  ,    10000.  ,       16.55,      354.3 ,     3199.4 ],\n",
       "       [66055249.  ,    10000.  ,    10000.  , 68616520.  ,      309.97,      301.9 ]])"
      ]
     },
     "execution_count": 278,
     "metadata": {},
     "output_type": "execute_result"
    }
   ],
   "source": [
    "# Numeric dataset\n",
    "loan_data_numeric = np.genfromtxt('loan-data.csv',\n",
    "                                  delimiter = ';',\n",
    "                                  skip_header = 1,\n",
    "                                  autostrip = True,\n",
    "                                  encoding = \"cp855\",\n",
    "                                  usecols = columns_numeric,\n",
    "                                  filling_values = temporary_fill)\n",
    "loan_data_numeric"
   ]
  },
  {
   "cell_type": "markdown",
   "id": "ebb1ce57-36a8-4413-8da8-b3025e0da32f",
   "metadata": {},
   "source": [
    "### The Names of the Columns"
   ]
  },
  {
   "cell_type": "code",
   "execution_count": 280,
   "id": "f87470ea-d40f-493b-9328-e6caca9182f6",
   "metadata": {},
   "outputs": [
    {
     "data": {
      "text/plain": [
       "array(['id', 'issue_d', 'loan_amnt', 'loan_status', 'funded_amnt', 'term', 'int_rate',\n",
       "       'installment', 'grade', 'sub_grade', 'verification_status', 'url', 'addr_state',\n",
       "       'total_pymnt'], dtype='<U19')"
      ]
     },
     "execution_count": 280,
     "metadata": {},
     "output_type": "execute_result"
    }
   ],
   "source": [
    "header_full = np.genfromtxt('loan-data.csv',\n",
    "                             delimiter = ';',\n",
    "                             #this line skips all rows besides the header, it works because when we loaded raw_data_np, we imported all rows but the header\n",
    "                             skip_footer = raw_data_np.shape[0],\n",
    "                             encoding = \"cp855\",\n",
    "                             dtype = str)\n",
    "\n",
    "header_full"
   ]
  },
  {
   "cell_type": "code",
   "execution_count": 282,
   "id": "4d51dc4d-da59-40b7-8d6e-1afbd4c0adf4",
   "metadata": {},
   "outputs": [],
   "source": [
    "header_strings, header_numeric = header_full[columns_strings], header_full[columns_numeric]"
   ]
  },
  {
   "cell_type": "code",
   "execution_count": 96,
   "id": "1f2634f9-60ec-48d2-8175-c21e88d06e04",
   "metadata": {},
   "outputs": [
    {
     "data": {
      "text/plain": [
       "array(['issue_d', 'loan_status', 'term', 'grade', 'sub_grade', 'verification_status', 'url',\n",
       "       'addr_state'], dtype='<U19')"
      ]
     },
     "execution_count": 96,
     "metadata": {},
     "output_type": "execute_result"
    }
   ],
   "source": [
    "header_strings"
   ]
  },
  {
   "cell_type": "code",
   "execution_count": 283,
   "id": "6c961db6-8169-43b7-96d7-5ea365b143c5",
   "metadata": {},
   "outputs": [
    {
     "data": {
      "text/plain": [
       "array(['id', 'loan_amnt', 'funded_amnt', 'int_rate', 'installment', 'total_pymnt'], dtype='<U19')"
      ]
     },
     "execution_count": 283,
     "metadata": {},
     "output_type": "execute_result"
    }
   ],
   "source": [
    "header_numeric"
   ]
  },
  {
   "cell_type": "markdown",
   "id": "1a838dce-05d6-449a-86e9-6e9f9ca1d191",
   "metadata": {},
   "source": [
    "___"
   ]
  },
  {
   "cell_type": "markdown",
   "id": "241add21-c8ac-4138-96ba-66064ba1cf9b",
   "metadata": {},
   "source": [
    "## Creating Checkpoints:"
   ]
  },
  {
   "cell_type": "markdown",
   "id": "e4acb0b9-a2ad-43a8-9938-d81377a821fe",
   "metadata": {},
   "source": [
    "# 🔐"
   ]
  },
  {
   "cell_type": "code",
   "execution_count": 161,
   "id": "cc34a59b-297f-40e6-978a-4b73f193e49d",
   "metadata": {},
   "outputs": [],
   "source": [
    "#function parameters, file_name, checpoint_header and the data\n",
    "#creates an npz file from parameters\n",
    "def checkpoint(file_name, checkpoint_header, checkpoint_data):\n",
    "    np.savez(file_name, header = checkpoint_header, data = checkpoint_data)\n",
    "    checkpoint_variable = np.load(file_name + '.npz')\n",
    "    return(checkpoint_variable)"
   ]
  },
  {
   "cell_type": "code",
   "execution_count": 38,
   "id": "42601fc4-1fa7-4ed2-af0f-5dc544d41084",
   "metadata": {},
   "outputs": [],
   "source": [
    "checkpoint_test = checkpoint('checkpoint-test', header_strings, loan_data_strings) #test function"
   ]
  },
  {
   "cell_type": "code",
   "execution_count": 40,
   "id": "343af463-fda8-4070-84be-bfd4c427ab13",
   "metadata": {},
   "outputs": [
    {
     "data": {
      "text/plain": [
       "array(['issue_d', 'loan_status', 'term', 'grade', 'sub_grade', 'verification_status', 'url',\n",
       "       'addr_state'], dtype='<U19')"
      ]
     },
     "execution_count": 40,
     "metadata": {},
     "output_type": "execute_result"
    }
   ],
   "source": [
    "checkpoint_test['header'] #header should be equal to our header_strings"
   ]
  },
  {
   "cell_type": "code",
   "execution_count": 162,
   "id": "9b4f78dc-7778-442d-8e47-9f64bf86f9b5",
   "metadata": {},
   "outputs": [
    {
     "data": {
      "text/plain": [
       "True"
      ]
     },
     "execution_count": 162,
     "metadata": {},
     "output_type": "execute_result"
    }
   ],
   "source": [
    "np.array_equal(checkpoint_test['data'], loan_data_strings)"
   ]
  },
  {
   "cell_type": "markdown",
   "id": "0a111c4d-a524-4ddd-a15f-b166117dab78",
   "metadata": {},
   "source": [
    "___"
   ]
  },
  {
   "cell_type": "markdown",
   "id": "b3193a14-1a94-4c4f-b057-94a8fee54d30",
   "metadata": {},
   "source": [
    "## Manipulating Strings Columns"
   ]
  },
  {
   "cell_type": "code",
   "execution_count": 42,
   "id": "f794fd52-4f41-46cc-a533-1d42e7ea2c97",
   "metadata": {},
   "outputs": [
    {
     "data": {
      "text/plain": [
       "array(['issue_d', 'loan_status', 'term', 'grade', 'sub_grade', 'verification_status', 'url',\n",
       "       'addr_state'], dtype='<U19')"
      ]
     },
     "execution_count": 42,
     "metadata": {},
     "output_type": "execute_result"
    }
   ],
   "source": [
    "header_strings"
   ]
  },
  {
   "cell_type": "code",
   "execution_count": 163,
   "id": "d1ff6b51-3199-4964-b8bb-62b3783742df",
   "metadata": {},
   "outputs": [],
   "source": [
    "#rename issue_d = issue_date\n",
    "header_strings[0] = 'issue_date'"
   ]
  },
  {
   "cell_type": "code",
   "execution_count": 44,
   "id": "52be8557-694f-4a53-a041-f6dd8d296519",
   "metadata": {},
   "outputs": [
    {
     "data": {
      "text/plain": [
       "array([['May-15', 'Current', '36 months', ..., 'Verified',\n",
       "        'https://www.lendingclub.com/browse/loanDetail.action?loan_id=48010226', 'CA'],\n",
       "       ['', 'Current', '36 months', ..., 'Source Verified',\n",
       "        'https://www.lendingclub.com/browse/loanDetail.action?loan_id=57693261', 'NY'],\n",
       "       ['Sep-15', 'Current', '36 months', ..., 'Verified',\n",
       "        'https://www.lendingclub.com/browse/loanDetail.action?loan_id=59432726', 'PA'],\n",
       "       ...,\n",
       "       ['Jun-15', 'Current', '36 months', ..., 'Source Verified',\n",
       "        'https://www.lendingclub.com/browse/loanDetail.action?loan_id=50415990', 'CA'],\n",
       "       ['Apr-15', 'Current', '36 months', ..., 'Source Verified',\n",
       "        'https://www.lendingclub.com/browse/loanDetail.action?loan_id=46154151', 'OH'],\n",
       "       ['Dec-15', 'Current', '36 months', ..., '',\n",
       "        'https://www.lendingclub.com/browse/loanDetail.action?loan_id=66055249', 'IL']],\n",
       "      dtype='<U69')"
      ]
     },
     "execution_count": 44,
     "metadata": {},
     "output_type": "execute_result"
    }
   ],
   "source": [
    "loan_data_strings"
   ]
  },
  {
   "cell_type": "markdown",
   "id": "87f1f1db-2f4c-4677-bc2a-3062b5ff6a09",
   "metadata": {},
   "source": [
    "### Issue Date (issue_date)"
   ]
  },
  {
   "cell_type": "code",
   "execution_count": 45,
   "id": "50513076-0435-403b-abf4-bf9d4963aef8",
   "metadata": {},
   "outputs": [
    {
     "data": {
      "text/plain": [
       "array(['May-15', '', 'Sep-15', ..., 'Jun-15', 'Apr-15', 'Dec-15'], dtype='<U69')"
      ]
     },
     "execution_count": 45,
     "metadata": {},
     "output_type": "execute_result"
    }
   ],
   "source": [
    "loan_data_strings[:,0]\n",
    "#Values seem to be all Month-YY format, of the year 2015 (can strip the year, since no additionally unique info)"
   ]
  },
  {
   "cell_type": "code",
   "execution_count": 46,
   "id": "94a9a50f-3888-4a74-b935-73fd8b2ff688",
   "metadata": {},
   "outputs": [
    {
     "data": {
      "text/plain": [
       "array(['', 'Apr-15', 'Aug-15', 'Dec-15', 'Feb-15', 'Jan-15', 'Jul-15', 'Jun-15', 'Mar-15',\n",
       "       'May-15', 'Nov-15', 'Oct-15', 'Sep-15'], dtype='<U69')"
      ]
     },
     "execution_count": 46,
     "metadata": {},
     "output_type": "execute_result"
    }
   ],
   "source": [
    "np.unique(loan_data_strings[:,0])\n",
    "#All values seem to follow that format, empty space indicates missing values"
   ]
  },
  {
   "cell_type": "code",
   "execution_count": 164,
   "id": "ed302593-a730-4641-a81f-8435128db18f",
   "metadata": {},
   "outputs": [],
   "source": [
    "#Dropping the '-15'\n",
    "loan_data_strings[:,0] = np.chararray.strip(loan_data_strings[:,0], '-15')"
   ]
  },
  {
   "cell_type": "code",
   "execution_count": 165,
   "id": "24281ef2-a911-4fe4-ac3b-89c2547018ef",
   "metadata": {},
   "outputs": [
    {
     "data": {
      "text/plain": [
       "array(['', 'Apr', 'Aug', 'Dec', 'Feb', 'Jan', 'Jul', 'Jun', 'Mar', 'May', 'Nov', 'Oct', 'Sep'],\n",
       "      dtype='<U69')"
      ]
     },
     "execution_count": 165,
     "metadata": {},
     "output_type": "execute_result"
    }
   ],
   "source": [
    "np.unique(loan_data_strings[:,0])"
   ]
  },
  {
   "cell_type": "markdown",
   "id": "e56515ee-a08b-4820-b59f-904cb50f94bb",
   "metadata": {},
   "source": [
    "\n",
    "**Substitute Months for numbers**\n",
    "- Use less memory and space\n",
    "- Easy to follow order of the months"
   ]
  },
  {
   "cell_type": "code",
   "execution_count": 166,
   "id": "884def58-dfcd-40c1-b5f8-c8cc61ac7ee4",
   "metadata": {},
   "outputs": [],
   "source": [
    "months = np.array(['', 'Jan', 'Feb', 'Mar', 'Apr', 'May', 'Jun', 'Jul', 'Aug', 'Sep', 'Oct', 'Nov', 'Dec'])"
   ]
  },
  {
   "cell_type": "code",
   "execution_count": 167,
   "id": "024e60df-59a4-4160-92ef-cd1c2fb1d35a",
   "metadata": {},
   "outputs": [],
   "source": [
    "#Use a for loop to assign numbers (the index) to the values of loan_data_strings[:,0]\n",
    "for i in range(13):\n",
    "    loan_data_strings[:,0] = np.where(loan_data_strings[:,0] == months[i],\n",
    "                                      i,\n",
    "                                      loan_data_strings[:,0])"
   ]
  },
  {
   "cell_type": "code",
   "execution_count": 103,
   "id": "62446b8c-097a-4d5c-9105-ca34c5f5d6b8",
   "metadata": {},
   "outputs": [
    {
     "data": {
      "text/plain": [
       "array(['0', '1', '10', '11', '12', '2', '3', '4', '5', '6', '7', '8', '9'], dtype='<U69')"
      ]
     },
     "execution_count": 103,
     "metadata": {},
     "output_type": "execute_result"
    }
   ],
   "source": [
    "np.unique(loan_data_strings[:,0])"
   ]
  },
  {
   "cell_type": "markdown",
   "id": "f3f1917d-5cf3-4ab4-be0d-f820c50aad7c",
   "metadata": {},
   "source": [
    "✅ All months have been substituted with a corresponding number"
   ]
  },
  {
   "cell_type": "markdown",
   "id": "289fa669-15f2-4c64-8be5-898c806c150f",
   "metadata": {},
   "source": [
    "___"
   ]
  },
  {
   "cell_type": "markdown",
   "id": "d212d84c-a032-4e5c-adc1-d03b2a44f6cd",
   "metadata": {},
   "source": [
    "### Loan Status (loan_status)"
   ]
  },
  {
   "cell_type": "code",
   "execution_count": 52,
   "id": "a8ec4ee0-ec84-4578-9477-f9c4f3814e3c",
   "metadata": {},
   "outputs": [
    {
     "data": {
      "text/plain": [
       "array(['Current', 'Current', 'Current', ..., 'Current', 'Current', 'Current'], dtype='<U69')"
      ]
     },
     "execution_count": 52,
     "metadata": {},
     "output_type": "execute_result"
    }
   ],
   "source": [
    "loan_data_strings[:,1]"
   ]
  },
  {
   "cell_type": "code",
   "execution_count": 54,
   "id": "f3e85e98-4f10-4fd5-8d13-cb7baf2377cf",
   "metadata": {},
   "outputs": [
    {
     "data": {
      "text/plain": [
       "array(['', 'Charged Off', 'Current', 'Default', 'Fully Paid', 'In Grace Period', 'Issued',\n",
       "       'Late (16-30 days)', 'Late (31-120 days)'], dtype='<U69')"
      ]
     },
     "execution_count": 54,
     "metadata": {},
     "output_type": "execute_result"
    }
   ],
   "source": [
    "np.unique(loan_data_strings[:,1])"
   ]
  },
  {
   "cell_type": "code",
   "execution_count": 55,
   "id": "058f6b93-ea13-4c3a-b7f8-86b3cdc0f58c",
   "metadata": {},
   "outputs": [
    {
     "data": {
      "text/plain": [
       "9"
      ]
     },
     "execution_count": 55,
     "metadata": {},
     "output_type": "execute_result"
    }
   ],
   "source": [
    "np.unique(loan_data_strings[:,1]).size"
   ]
  },
  {
   "cell_type": "markdown",
   "id": "f5e32a88-8b11-4a9e-949a-c3dec09cbb19",
   "metadata": {},
   "source": [
    "# 🧐\n",
    "There are 9 unique values for loan_status, including empty spaces.\n",
    "<br>We could assign a different value to each one but our **regression model only cares if the candidate is in a stable financial position**\n",
    "<br>We will use a dummy variable and split all values into either 'good'(1) or 'bad'(0) loan status.\n",
    "<br>**1**: Current, Fully Paid, In Grace Period, Issued, Late (16 - 30 days)\n",
    "<br>**0**: No data, Charged Off, Default, Late (31 - 120 days)"
   ]
  },
  {
   "cell_type": "code",
   "execution_count": 168,
   "id": "76d5d5de-05b1-4225-b815-5fcdb8eb7f7d",
   "metadata": {},
   "outputs": [],
   "source": [
    "status_bad = np.array(['', 'Charged Off', 'Default', 'Late (31-120 days)']) #array with bad status values"
   ]
  },
  {
   "cell_type": "code",
   "execution_count": 169,
   "id": "ca36fea0-b8f1-48e9-9f9d-25fc12ef3805",
   "metadata": {},
   "outputs": [],
   "source": [
    "#check to see if the value for a given row in loan_status is equal to any value in the status_bad array\n",
    "#if so, assign it a value of 0, else a value of 1\n",
    "loan_data_strings[:,1] = np.where(np.isin(loan_data_strings[:,1], status_bad),0,1)"
   ]
  },
  {
   "cell_type": "code",
   "execution_count": 106,
   "id": "de9e3ad3-acb6-4b9d-acc5-a0f98b240028",
   "metadata": {},
   "outputs": [
    {
     "data": {
      "text/plain": [
       "array(['0', '1'], dtype='<U69')"
      ]
     },
     "execution_count": 106,
     "metadata": {},
     "output_type": "execute_result"
    }
   ],
   "source": [
    "np.unique(loan_data_strings[:,1])"
   ]
  },
  {
   "cell_type": "markdown",
   "id": "e2602540-ba72-4fc2-8a16-1299e159b8ed",
   "metadata": {},
   "source": [
    "✅ loan_status has been successfully transformed to contain only 1's and 0's indicating a good or bad loan status, respectively\n",
    "___"
   ]
  },
  {
   "cell_type": "markdown",
   "id": "2dda826e-98b4-4706-a31b-0facc34b0f4e",
   "metadata": {},
   "source": [
    "### Term (term)"
   ]
  },
  {
   "cell_type": "code",
   "execution_count": 60,
   "id": "057f5503-417e-4055-8fe6-9b80c3c591b4",
   "metadata": {},
   "outputs": [
    {
     "data": {
      "text/plain": [
       "array(['issue_date', 'loan_status', 'term', 'grade', 'sub_grade', 'verification_status', 'url',\n",
       "       'addr_state'], dtype='<U19')"
      ]
     },
     "execution_count": 60,
     "metadata": {},
     "output_type": "execute_result"
    }
   ],
   "source": [
    "header_strings"
   ]
  },
  {
   "cell_type": "code",
   "execution_count": 61,
   "id": "e85b50c4-4fe4-41ef-b894-c0ccf026a040",
   "metadata": {},
   "outputs": [
    {
     "data": {
      "text/plain": [
       "array(['36 months', '36 months', '36 months', ..., '36 months', '36 months', '36 months'],\n",
       "      dtype='<U69')"
      ]
     },
     "execution_count": 61,
     "metadata": {},
     "output_type": "execute_result"
    }
   ],
   "source": [
    "loan_data_strings[:,2]"
   ]
  },
  {
   "cell_type": "code",
   "execution_count": 62,
   "id": "b75c1e4c-0ef7-437b-81ee-507b9ffbd38a",
   "metadata": {},
   "outputs": [
    {
     "data": {
      "text/plain": [
       "array(['', '36 months', '60 months'], dtype='<U69')"
      ]
     },
     "execution_count": 62,
     "metadata": {},
     "output_type": "execute_result"
    }
   ],
   "source": [
    "np.unique(loan_data_strings[:,2])"
   ]
  },
  {
   "cell_type": "markdown",
   "id": "97022aa0-1d8b-4ebe-84c9-f9a4e39210f2",
   "metadata": {},
   "source": [
    "# 🧐\n",
    "3 unique values\n",
    "<br>Can strip the word ' months', it provides no additional info\n",
    "<br>And change the header accordingly to 'term_months'\n",
    "<br>As per our instructions, with missing data we assume the worst, we will therefore assign 60 to all empty spaces"
   ]
  },
  {
   "cell_type": "code",
   "execution_count": 170,
   "id": "a4f76679-6c07-4ce1-844f-630e754c60f5",
   "metadata": {},
   "outputs": [
    {
     "data": {
      "text/plain": [
       "array(['', '36', '60'], dtype='<U69')"
      ]
     },
     "execution_count": 170,
     "metadata": {},
     "output_type": "execute_result"
    }
   ],
   "source": [
    "loan_data_strings[:,2] = np.chararray.strip(loan_data_strings[:,2], ' months') #remove the word months\n",
    "np.unique(loan_data_strings[:,2])"
   ]
  },
  {
   "cell_type": "code",
   "execution_count": 171,
   "id": "8dcf1035-b939-480e-8cd1-1b3b39ce7607",
   "metadata": {},
   "outputs": [
    {
     "data": {
      "text/plain": [
       "array(['issue_date', 'loan_status', 'term_months', 'grade', 'sub_grade', 'verification_status',\n",
       "       'url', 'addr_state'], dtype='<U19')"
      ]
     },
     "execution_count": 171,
     "metadata": {},
     "output_type": "execute_result"
    }
   ],
   "source": [
    "header_strings[2] = 'term_months' #change the column name to something more descriptive\n",
    "header_strings"
   ]
  },
  {
   "cell_type": "code",
   "execution_count": 172,
   "id": "e16ba8c9-97bb-4514-9c93-91055a5bedfb",
   "metadata": {},
   "outputs": [
    {
     "data": {
      "text/plain": [
       "array(['36', '60'], dtype='<U69')"
      ]
     },
     "execution_count": 172,
     "metadata": {},
     "output_type": "execute_result"
    }
   ],
   "source": [
    "loan_data_strings[:,2] = np.where(loan_data_strings[:,2] == '',\n",
    "                                  '60',\n",
    "                                  loan_data_strings[:,2])\n",
    "np.unique(loan_data_strings[:,2])"
   ]
  },
  {
   "cell_type": "markdown",
   "id": "53ca47bc-b5f1-4fae-89b3-a1b715f6b141",
   "metadata": {},
   "source": [
    "✅ We will assume there is a significance to these values and therefore not change them to 1 and 0\n",
    "___"
   ]
  },
  {
   "cell_type": "markdown",
   "id": "a4a4c812-e7ac-4a84-a0f8-e62bacc01dcc",
   "metadata": {},
   "source": [
    "### Grade (grade) and Sub-Grade (sub_grade)"
   ]
  },
  {
   "cell_type": "code",
   "execution_count": 66,
   "id": "8daabc33-775a-4ae4-8bbf-3933975b7df3",
   "metadata": {},
   "outputs": [
    {
     "data": {
      "text/plain": [
       "array(['issue_date', 'loan_status', 'term_months', 'grade', 'sub_grade', 'verification_status',\n",
       "       'url', 'addr_state'], dtype='<U19')"
      ]
     },
     "execution_count": 66,
     "metadata": {},
     "output_type": "execute_result"
    }
   ],
   "source": [
    "header_strings"
   ]
  },
  {
   "cell_type": "code",
   "execution_count": 67,
   "id": "d5278aba-f928-4259-a7a0-27653fe3afd3",
   "metadata": {},
   "outputs": [
    {
     "data": {
      "text/plain": [
       "array(['', 'A', 'B', 'C', 'D', 'E', 'F', 'G'], dtype='<U69')"
      ]
     },
     "execution_count": 67,
     "metadata": {},
     "output_type": "execute_result"
    }
   ],
   "source": [
    "np.unique(loan_data_strings[:,3])"
   ]
  },
  {
   "cell_type": "code",
   "execution_count": 93,
   "id": "170b4c57-ad11-4c00-8fd3-a71738146e93",
   "metadata": {},
   "outputs": [
    {
     "data": {
      "text/plain": [
       "array(['5', 'A1', 'A2', 'A3', 'A4', 'A5', 'B1', 'B2', 'B3', 'B4', 'B5', 'C1', 'C2', 'C3', 'C4',\n",
       "       'C5', 'D1', 'D2', 'D3', 'D4', 'D5', 'E1', 'E2', 'E3', 'E4', 'E5', 'F1', 'F2', 'F3', 'F4',\n",
       "       'F5', 'G1', 'G2', 'G3', 'G4', 'G5'], dtype='<U69')"
      ]
     },
     "execution_count": 93,
     "metadata": {},
     "output_type": "execute_result"
    }
   ],
   "source": [
    "np.unique(loan_data_strings[:,4])"
   ]
  },
  {
   "cell_type": "markdown",
   "id": "e80041b7-369d-4341-8ae1-5f8b45f6546e",
   "metadata": {},
   "source": [
    "# 🧐\n",
    "Firstly, both columns have missing values.\n",
    "<br>The sub_grade is obviously a more detailed breakdown of the grade value. \n",
    "<br>Since grade is included in the sub_grade column it goes to reason that we can drop this column as it is redundant. Before we do that though:\n",
    "<br>Missing values in the sub_grade column will be assigned it's parent grade value, if that value exist, and the number 5, since we assume the worst for our CRM\n",
    "<br>For example a missing **sub_grade** value with a parent **grade** value of 'B' will be assigned a value of 'B5'"
   ]
  },
  {
   "cell_type": "markdown",
   "id": "28e73f28-6194-4f35-a5df-702c0dffe83b",
   "metadata": {},
   "source": [
    "#### Filling "
   ]
  },
  {
   "cell_type": "code",
   "execution_count": 173,
   "id": "ec13d453-a3ba-4e07-9945-1e5b2acc2af5",
   "metadata": {},
   "outputs": [],
   "source": [
    "for i in np.unique(loan_data_strings[:,3])[1:]:                                                       #iterating through the np.unique array fro the 2nd value since the first is an empty space\n",
    "    loan_data_strings[:,4] = np.where((loan_data_strings[:,4] == '') & (loan_data_strings[:,3] == i), #where the value in column sub_grade is an empty space\n",
    "                                      i + '5',                                                        #and the value of the grade column is equal to the current value of the for loop (np.unique array)\n",
    "                                      loan_data_strings[:,4])                                         #assign the current value of the for loop + the number 5"
   ]
  },
  {
   "cell_type": "code",
   "execution_count": 111,
   "id": "34565bcb-7e52-48af-a897-d9e017c31a22",
   "metadata": {},
   "outputs": [
    {
     "data": {
      "text/plain": [
       "array(['', 'A1', 'A2', 'A3', 'A4', 'A5', 'B1', 'B2', 'B3', 'B4', 'B5', 'C1', 'C2', 'C3', 'C4',\n",
       "       'C5', 'D1', 'D2', 'D3', 'D4', 'D5', 'E1', 'E2', 'E3', 'E4', 'E5', 'F1', 'F2', 'F3', 'F4',\n",
       "       'F5', 'G1', 'G2', 'G3', 'G4', 'G5'], dtype='<U69')"
      ]
     },
     "execution_count": 111,
     "metadata": {},
     "output_type": "execute_result"
    }
   ],
   "source": [
    "np.unique(loan_data_strings[:,4])"
   ]
  },
  {
   "cell_type": "markdown",
   "id": "0b4e5bca-db0f-467d-aca9-ab2cf5f0f20d",
   "metadata": {},
   "source": [
    "We still have missing data, which means there are rows with no grades and no sub_grades"
   ]
  },
  {
   "cell_type": "code",
   "execution_count": 174,
   "id": "245da287-1677-475c-b21b-31962e4ef858",
   "metadata": {},
   "outputs": [
    {
     "data": {
      "text/plain": [
       "(array(['', 'A1', 'A2', 'A3', 'A4', 'A5', 'B1', 'B2', 'B3', 'B4', 'B5', 'C1', 'C2', 'C3', 'C4',\n",
       "        'C5', 'D1', 'D2', 'D3', 'D4', 'D5', 'E1', 'E2', 'E3', 'E4', 'E5', 'F1', 'F2', 'F3', 'F4',\n",
       "        'F5', 'G1', 'G2', 'G3', 'G4', 'G5'], dtype='<U69'),\n",
       " array([  9, 285, 278, 239, 323, 592, 509, 517, 530, 553, 633, 629, 567, 586, 564, 577, 391, 267,\n",
       "        250, 255, 288, 235, 162, 171, 139, 160,  94,  52,  34,  43,  24,  19,  10,   3,   7,   5]))"
      ]
     },
     "execution_count": 174,
     "metadata": {},
     "output_type": "execute_result"
    }
   ],
   "source": [
    "np.unique(loan_data_strings[:,4], return_counts = True)"
   ]
  },
  {
   "cell_type": "markdown",
   "id": "d2183488-faaf-4b57-b46f-d1208f2cd593",
   "metadata": {},
   "source": [
    "There are only 9 rows with no values, we could drop these rows as there statistical significance will be low.\n",
    "However, since we have to assign values to all rows we will assign a new value to the missing elements of 'H1'"
   ]
  },
  {
   "cell_type": "code",
   "execution_count": 175,
   "id": "020b60ad-eb0b-4a87-b373-42caa56ecd30",
   "metadata": {},
   "outputs": [
    {
     "data": {
      "text/plain": [
       "array(['A1', 'A2', 'A3', 'A4', 'A5', 'B1', 'B2', 'B3', 'B4', 'B5', 'C1', 'C2', 'C3', 'C4', 'C5',\n",
       "       'D1', 'D2', 'D3', 'D4', 'D5', 'E1', 'E2', 'E3', 'E4', 'E5', 'F1', 'F2', 'F3', 'F4', 'F5',\n",
       "       'G1', 'G2', 'G3', 'G4', 'G5', 'H1'], dtype='<U69')"
      ]
     },
     "execution_count": 175,
     "metadata": {},
     "output_type": "execute_result"
    }
   ],
   "source": [
    "#Assign the vale of 'H1' to sub_grade for all remaining rows with no values for Grade and Sub_Grade\n",
    "loan_data_strings[:,4] = np.where(loan_data_strings[:,4] == '',\n",
    "                                  'H1',\n",
    "                                  loan_data_strings[:,4])\n",
    "np.unique(loan_data_strings[:,4])"
   ]
  },
  {
   "cell_type": "markdown",
   "id": "5e5bc663-d83d-4c33-aa62-90de7e2b3201",
   "metadata": {},
   "source": [
    "We have no more missing values in sub_grade and can now drop the redundant grade column"
   ]
  },
  {
   "cell_type": "markdown",
   "id": "dd806cb5-7d59-4660-9a7a-970b8756424e",
   "metadata": {},
   "source": [
    "#### Removing Grade"
   ]
  },
  {
   "cell_type": "code",
   "execution_count": 176,
   "id": "773733da-a78e-4add-8f73-dbf5e4aadfe3",
   "metadata": {},
   "outputs": [],
   "source": [
    "loan_data_strings = np.delete(loan_data_strings, 3, axis = 1)"
   ]
  },
  {
   "cell_type": "code",
   "execution_count": 115,
   "id": "f51067d3-86ee-44ab-b1ed-9f24cba30637",
   "metadata": {},
   "outputs": [
    {
     "data": {
      "text/plain": [
       "array(['C3', 'A5', 'B5', ..., 'A5', 'D2', 'A4'], dtype='<U69')"
      ]
     },
     "execution_count": 115,
     "metadata": {},
     "output_type": "execute_result"
    }
   ],
   "source": [
    "loan_data_strings[:,3]"
   ]
  },
  {
   "cell_type": "markdown",
   "id": "5b59a223-7d51-487f-adc7-c46d1e6ecac0",
   "metadata": {},
   "source": [
    "Update header strings acordingly"
   ]
  },
  {
   "cell_type": "code",
   "execution_count": 177,
   "id": "cf684801-2465-42bd-859d-a98a6cb75a3a",
   "metadata": {},
   "outputs": [
    {
     "data": {
      "text/plain": [
       "array(['issue_date', 'loan_status', 'term_months', 'sub_grade', 'verification_status', 'url',\n",
       "       'addr_state'], dtype='<U19')"
      ]
     },
     "execution_count": 177,
     "metadata": {},
     "output_type": "execute_result"
    }
   ],
   "source": [
    "header_strings = np.delete(header_strings, 3) #one dimensional array, no need to indicate axis\n",
    "header_strings"
   ]
  },
  {
   "cell_type": "markdown",
   "id": "4df5381f-9938-42a7-867e-1b2d5997bf00",
   "metadata": {},
   "source": [
    "✅ Grade column removed and header_strings array updated acordingly"
   ]
  },
  {
   "cell_type": "markdown",
   "id": "add29bfe-a797-4bbf-9628-1f2370ddf929",
   "metadata": {},
   "source": [
    "#### Converting Sub Grade"
   ]
  },
  {
   "cell_type": "code",
   "execution_count": 117,
   "id": "291ff081-0083-4639-81cb-eb54d37a5473",
   "metadata": {},
   "outputs": [
    {
     "data": {
      "text/plain": [
       "array(['A1', 'A2', 'A3', 'A4', 'A5', 'B1', 'B2', 'B3', 'B4', 'B5', 'C1', 'C2', 'C3', 'C4', 'C5',\n",
       "       'D1', 'D2', 'D3', 'D4', 'D5', 'E1', 'E2', 'E3', 'E4', 'E5', 'F1', 'F2', 'F3', 'F4', 'F5',\n",
       "       'G1', 'G2', 'G3', 'G4', 'G5', 'H1'], dtype='<U69')"
      ]
     },
     "execution_count": 117,
     "metadata": {},
     "output_type": "execute_result"
    }
   ],
   "source": [
    "np.unique(loan_data_strings[:,3])"
   ]
  },
  {
   "cell_type": "markdown",
   "id": "4c72a743-41e9-4f5d-aad5-08077e16bcc3",
   "metadata": {},
   "source": [
    "Objective assign values 1 to 36 to sub_grade values A1 to H1 (36 subgrade values in total)\n",
    "<br>keys = loan_data_strings[:,3]\n",
    "<br>values = create a list with range 1 to **loan_data_strings[:,3].shape[0] + 1**, which is equal to the length of the array + 1...since arrays are inclusive-exclusive"
   ]
  },
  {
   "cell_type": "code",
   "execution_count": 178,
   "id": "6c65a357-27bb-4ecb-834c-4cadf9f73281",
   "metadata": {},
   "outputs": [
    {
     "data": {
      "text/plain": [
       "['A1',\n",
       " 'A2',\n",
       " 'A3',\n",
       " 'A4',\n",
       " 'A5',\n",
       " 'B1',\n",
       " 'B2',\n",
       " 'B3',\n",
       " 'B4',\n",
       " 'B5',\n",
       " 'C1',\n",
       " 'C2',\n",
       " 'C3',\n",
       " 'C4',\n",
       " 'C5',\n",
       " 'D1',\n",
       " 'D2',\n",
       " 'D3',\n",
       " 'D4',\n",
       " 'D5',\n",
       " 'E1',\n",
       " 'E2',\n",
       " 'E3',\n",
       " 'E4',\n",
       " 'E5',\n",
       " 'F1',\n",
       " 'F2',\n",
       " 'F3',\n",
       " 'F4',\n",
       " 'F5',\n",
       " 'G1',\n",
       " 'G2',\n",
       " 'G3',\n",
       " 'G4',\n",
       " 'G5',\n",
       " 'H1']"
      ]
     },
     "execution_count": 178,
     "metadata": {},
     "output_type": "execute_result"
    }
   ],
   "source": [
    "keys = list(np.unique(loan_data_strings[:,3]))\n",
    "keys"
   ]
  },
  {
   "cell_type": "code",
   "execution_count": 179,
   "id": "df582134-a902-4c80-853f-2238c3d958d1",
   "metadata": {},
   "outputs": [],
   "source": [
    "values = list(range(1, np.unique(loan_data_strings[:,3]).shape[0] + 1))"
   ]
  },
  {
   "cell_type": "code",
   "execution_count": 128,
   "id": "e750f8e9-ab5f-461c-8586-dbf06b457d17",
   "metadata": {},
   "outputs": [
    {
     "data": {
      "text/plain": [
       "[1,\n",
       " 2,\n",
       " 3,\n",
       " 4,\n",
       " 5,\n",
       " 6,\n",
       " 7,\n",
       " 8,\n",
       " 9,\n",
       " 10,\n",
       " 11,\n",
       " 12,\n",
       " 13,\n",
       " 14,\n",
       " 15,\n",
       " 16,\n",
       " 17,\n",
       " 18,\n",
       " 19,\n",
       " 20,\n",
       " 21,\n",
       " 22,\n",
       " 23,\n",
       " 24,\n",
       " 25,\n",
       " 26,\n",
       " 27,\n",
       " 28,\n",
       " 29,\n",
       " 30,\n",
       " 31,\n",
       " 32,\n",
       " 33,\n",
       " 34,\n",
       " 35,\n",
       " 36]"
      ]
     },
     "execution_count": 128,
     "metadata": {},
     "output_type": "execute_result"
    }
   ],
   "source": [
    "values"
   ]
  },
  {
   "cell_type": "code",
   "execution_count": 180,
   "id": "3029e034-d6c7-4178-b725-1f6644b46bdf",
   "metadata": {},
   "outputs": [],
   "source": [
    "dict_sub_grade = dict(zip(keys, values)) #zip functions pairs items in iterators together"
   ]
  },
  {
   "cell_type": "code",
   "execution_count": 130,
   "id": "051cf212-b883-4ff6-a5cc-1d1eb6cf1e84",
   "metadata": {},
   "outputs": [
    {
     "data": {
      "text/plain": [
       "{'A1': 1,\n",
       " 'A2': 2,\n",
       " 'A3': 3,\n",
       " 'A4': 4,\n",
       " 'A5': 5,\n",
       " 'B1': 6,\n",
       " 'B2': 7,\n",
       " 'B3': 8,\n",
       " 'B4': 9,\n",
       " 'B5': 10,\n",
       " 'C1': 11,\n",
       " 'C2': 12,\n",
       " 'C3': 13,\n",
       " 'C4': 14,\n",
       " 'C5': 15,\n",
       " 'D1': 16,\n",
       " 'D2': 17,\n",
       " 'D3': 18,\n",
       " 'D4': 19,\n",
       " 'D5': 20,\n",
       " 'E1': 21,\n",
       " 'E2': 22,\n",
       " 'E3': 23,\n",
       " 'E4': 24,\n",
       " 'E5': 25,\n",
       " 'F1': 26,\n",
       " 'F2': 27,\n",
       " 'F3': 28,\n",
       " 'F4': 29,\n",
       " 'F5': 30,\n",
       " 'G1': 31,\n",
       " 'G2': 32,\n",
       " 'G3': 33,\n",
       " 'G4': 34,\n",
       " 'G5': 35,\n",
       " 'H1': 36}"
      ]
     },
     "execution_count": 130,
     "metadata": {},
     "output_type": "execute_result"
    }
   ],
   "source": [
    "dict_sub_grade"
   ]
  },
  {
   "cell_type": "code",
   "execution_count": 181,
   "id": "df8ca16a-90df-4c6d-9ac4-74ce46098223",
   "metadata": {},
   "outputs": [],
   "source": [
    "for i in np.unique(loan_data_strings[:,3]):                        #iterate through array with unique sub_grade values...A1 to H1\n",
    "    loan_data_strings[:,3] = np.where(loan_data_strings[:,3] == i, #where the value in the sub_grade column is equal to the current i value, as in the current sub_grade in np.unique\n",
    "                                      dict_sub_grade[i],           #update the value in the sub_grade column with the value of dict_sub_grade with a key = i\n",
    "                                      loan_data_strings[:,3])      #else leave value as is"
   ]
  },
  {
   "cell_type": "code",
   "execution_count": 134,
   "id": "fed19965-792a-4bac-8cb1-0558951d46ce",
   "metadata": {},
   "outputs": [
    {
     "data": {
      "text/plain": [
       "array(['1', '10', '11', '12', '13', '14', '15', '16', '17', '18', '19', '2', '20', '21', '22',\n",
       "       '23', '24', '25', '26', '27', '28', '29', '3', '30', '31', '32', '33', '34', '35', '36',\n",
       "       '4', '5', '6', '7', '8', '9'], dtype='<U69')"
      ]
     },
     "execution_count": 134,
     "metadata": {},
     "output_type": "execute_result"
    }
   ],
   "source": [
    "np.unique(loan_data_strings[:,3])"
   ]
  },
  {
   "cell_type": "markdown",
   "id": "80ab56e4-4840-4ddb-87eb-ecef14abc779",
   "metadata": {},
   "source": [
    "✅ All sub_grade values, A1 to H1 have been numerised to '1' to '36'\n",
    "___"
   ]
  },
  {
   "cell_type": "markdown",
   "id": "68d769d0-0a97-45b9-8ee0-588ea3a8c26e",
   "metadata": {},
   "source": [
    "### Verification Status (verification_status)"
   ]
  },
  {
   "cell_type": "code",
   "execution_count": 135,
   "id": "fea74859-6c5e-42c1-8455-06333004c57c",
   "metadata": {},
   "outputs": [
    {
     "data": {
      "text/plain": [
       "array(['issue_date', 'loan_status', 'term_months', 'sub_grade', 'verification_status', 'url',\n",
       "       'addr_state'], dtype='<U19')"
      ]
     },
     "execution_count": 135,
     "metadata": {},
     "output_type": "execute_result"
    }
   ],
   "source": [
    "header_strings"
   ]
  },
  {
   "cell_type": "code",
   "execution_count": 136,
   "id": "b4292a39-d897-4ac5-990d-ada6a373673b",
   "metadata": {},
   "outputs": [
    {
     "data": {
      "text/plain": [
       "array(['Verified', 'Source Verified', 'Verified', ..., 'Source Verified', 'Source Verified', ''],\n",
       "      dtype='<U69')"
      ]
     },
     "execution_count": 136,
     "metadata": {},
     "output_type": "execute_result"
    }
   ],
   "source": [
    "loan_data_strings[:,4]"
   ]
  },
  {
   "cell_type": "code",
   "execution_count": 137,
   "id": "bf280040-2424-4976-b2d0-8328c115fc94",
   "metadata": {},
   "outputs": [
    {
     "data": {
      "text/plain": [
       "array(['', 'Not Verified', 'Source Verified', 'Verified'], dtype='<U69')"
      ]
     },
     "execution_count": 137,
     "metadata": {},
     "output_type": "execute_result"
    }
   ],
   "source": [
    "np.unique(loan_data_strings[:,4])"
   ]
  },
  {
   "cell_type": "markdown",
   "id": "d2d3d1d1-4038-4a5f-b905-9d53ff5485ee",
   "metadata": {},
   "source": [
    "# 🧐\n",
    "- 1 = 'Verified' and 'Source Verfied'\n",
    "- 0 = '' and 'Not Verfied'"
   ]
  },
  {
   "cell_type": "code",
   "execution_count": 182,
   "id": "467ee3f5-341b-47e4-b6ce-e3e57debc150",
   "metadata": {},
   "outputs": [],
   "source": [
    "loan_data_strings[:,4] = np.where((loan_data_strings[:,4] == '') | (loan_data_strings[:,4] == 'Not Verified'), 0, 1)"
   ]
  },
  {
   "cell_type": "code",
   "execution_count": 183,
   "id": "dffa2d03-bda8-4fcc-869e-b54296c6d204",
   "metadata": {},
   "outputs": [
    {
     "data": {
      "text/plain": [
       "array(['0', '1'], dtype='<U69')"
      ]
     },
     "execution_count": 183,
     "metadata": {},
     "output_type": "execute_result"
    }
   ],
   "source": [
    "np.unique(loan_data_strings[:,4])"
   ]
  },
  {
   "cell_type": "markdown",
   "id": "fe2185d4-9d89-43fe-8f2f-247ed35bb57e",
   "metadata": {},
   "source": [
    "✅ verification_status have been successfully numerised to '1' and '0'\n",
    "___"
   ]
  },
  {
   "cell_type": "markdown",
   "id": "1d5ede3a-52e1-4535-b16e-55199b4ee36d",
   "metadata": {},
   "source": [
    "### URL (url)"
   ]
  },
  {
   "cell_type": "code",
   "execution_count": 141,
   "id": "74379ddb-6a23-4c74-bf3f-fce157cfd72f",
   "metadata": {},
   "outputs": [
    {
     "data": {
      "text/plain": [
       "array(['https://www.lendingclub.com/browse/loanDetail.action?loan_id=48010226',\n",
       "       'https://www.lendingclub.com/browse/loanDetail.action?loan_id=57693261',\n",
       "       'https://www.lendingclub.com/browse/loanDetail.action?loan_id=59432726', ...,\n",
       "       'https://www.lendingclub.com/browse/loanDetail.action?loan_id=50415990',\n",
       "       'https://www.lendingclub.com/browse/loanDetail.action?loan_id=46154151',\n",
       "       'https://www.lendingclub.com/browse/loanDetail.action?loan_id=66055249'], dtype='<U69')"
      ]
     },
     "execution_count": 141,
     "metadata": {},
     "output_type": "execute_result"
    }
   ],
   "source": [
    "loan_data_strings[:,5]"
   ]
  },
  {
   "cell_type": "markdown",
   "id": "ffb0d85a-cf8a-4b9b-bb33-3fe36e0b1f6d",
   "metadata": {},
   "source": [
    "# 🧐\n",
    "The URL field contains no unique values but for the id. We will therefore strip everything but the id."
   ]
  },
  {
   "cell_type": "code",
   "execution_count": 184,
   "id": "0ca7eeff-1034-4538-ae38-c9fab46a97d6",
   "metadata": {},
   "outputs": [
    {
     "data": {
      "text/plain": [
       "chararray(['48010226', '57693261', '59432726', ..., '50415990', '46154151', '66055249'],\n",
       "          dtype='<U69')"
      ]
     },
     "execution_count": 184,
     "metadata": {},
     "output_type": "execute_result"
    }
   ],
   "source": [
    "np.chararray.strip(loan_data_strings[:,5], 'https://www.lendingclub.com/browse/loanDetail.action?loan_id=')"
   ]
  },
  {
   "cell_type": "code",
   "execution_count": 185,
   "id": "77c8a47c-cb92-4dd8-a636-36a35d07eead",
   "metadata": {},
   "outputs": [
    {
     "data": {
      "text/plain": [
       "array(['48010226', '57693261', '59432726', ..., '50415990', '46154151', '66055249'], dtype='<U69')"
      ]
     },
     "execution_count": 185,
     "metadata": {},
     "output_type": "execute_result"
    }
   ],
   "source": [
    "loan_data_strings[:,5] = np.chararray.strip(loan_data_strings[:,5], 'https://www.lendingclub.com/browse/loanDetail.action?loan_id=')\n",
    "loan_data_strings[:,5]"
   ]
  },
  {
   "cell_type": "code",
   "execution_count": 144,
   "id": "5ef58fac-87c2-451e-8814-f76ae46bbc66",
   "metadata": {},
   "outputs": [
    {
     "data": {
      "text/plain": [
       "array(['id', 'loan_amnt', 'funded_amnt', 'int_rate', 'installment', 'total_pymnt'], dtype='<U19')"
      ]
     },
     "execution_count": 144,
     "metadata": {},
     "output_type": "execute_result"
    }
   ],
   "source": [
    "header_numeric"
   ]
  },
  {
   "cell_type": "code",
   "execution_count": 147,
   "id": "cfe21978-d603-4fcb-8aca-a3cfd49d9f71",
   "metadata": {},
   "outputs": [
    {
     "data": {
      "text/plain": [
       "array([48010226., 57693261., 59432726., ..., 50415990., 46154151., 66055249.])"
      ]
     },
     "execution_count": 147,
     "metadata": {},
     "output_type": "execute_result"
    }
   ],
   "source": [
    "loan_data_numeric[:,0]"
   ]
  },
  {
   "cell_type": "markdown",
   "id": "a63f580e-af84-4869-92e1-db537cf82856",
   "metadata": {},
   "source": [
    "# 🧐\n",
    "The id in our numeric dataset and the stripped id in our URL column of the strings dataset seems to contain identical information.\n",
    "<br>The former is a decimal number and the latter a string.\n",
    "<br>Lets cast both as integers and compare them"
   ]
  },
  {
   "cell_type": "code",
   "execution_count": 150,
   "id": "149a6ba1-fc34-4670-87ed-b22b93b563de",
   "metadata": {},
   "outputs": [
    {
     "data": {
      "text/plain": [
       "array([48010226, 57693261, 59432726, ..., 50415990, 46154151, 66055249], dtype=int32)"
      ]
     },
     "execution_count": 150,
     "metadata": {},
     "output_type": "execute_result"
    }
   ],
   "source": [
    "loan_data_numeric[:,0].astype(dtype = np.int32)"
   ]
  },
  {
   "cell_type": "code",
   "execution_count": 151,
   "id": "09799c0b-e83e-48e1-ace3-53807a607e45",
   "metadata": {},
   "outputs": [
    {
     "data": {
      "text/plain": [
       "array([48010226, 57693261, 59432726, ..., 50415990, 46154151, 66055249], dtype=int32)"
      ]
     },
     "execution_count": 151,
     "metadata": {},
     "output_type": "execute_result"
    }
   ],
   "source": [
    "loan_data_strings[:,5].astype(dtype = np.int32)"
   ]
  },
  {
   "cell_type": "code",
   "execution_count": 152,
   "id": "a46888d4-3ed1-4011-8966-bc0de650cdd6",
   "metadata": {},
   "outputs": [
    {
     "data": {
      "text/plain": [
       "True"
      ]
     },
     "execution_count": 152,
     "metadata": {},
     "output_type": "execute_result"
    }
   ],
   "source": [
    "np.array_equal(loan_data_numeric[:,0].astype(dtype = np.int32), loan_data_strings[:,5].astype(dtype = np.int32))"
   ]
  },
  {
   "cell_type": "markdown",
   "id": "b1e8c226-fcfb-4d97-8581-c16b914d5640",
   "metadata": {},
   "source": [
    "# 🧐\n",
    "The ID and stripped URL fields are equal.\n",
    "<br>We can drop this colum in the strings dataset and update the header."
   ]
  },
  {
   "cell_type": "code",
   "execution_count": 186,
   "id": "99c6e802-dda3-4115-bc66-8941ebf8272d",
   "metadata": {},
   "outputs": [],
   "source": [
    "loan_data_strings = np.delete(loan_data_strings, 5, axis = 1)\n",
    "header_strings = np.delete(header_strings, 5)"
   ]
  },
  {
   "cell_type": "code",
   "execution_count": 187,
   "id": "97dbc70b-9d23-4122-b05e-73583c963a0e",
   "metadata": {},
   "outputs": [
    {
     "data": {
      "text/plain": [
       "array(['CA', 'NY', 'PA', ..., 'CA', 'OH', 'IL'], dtype='<U69')"
      ]
     },
     "execution_count": 187,
     "metadata": {},
     "output_type": "execute_result"
    }
   ],
   "source": [
    "loan_data_strings[:,5]"
   ]
  },
  {
   "cell_type": "code",
   "execution_count": 188,
   "id": "390aaa8d-4b3b-4808-8665-0523f94fd73f",
   "metadata": {},
   "outputs": [
    {
     "data": {
      "text/plain": [
       "'addr_state'"
      ]
     },
     "execution_count": 188,
     "metadata": {},
     "output_type": "execute_result"
    }
   ],
   "source": [
    "header_strings[5]"
   ]
  },
  {
   "cell_type": "markdown",
   "id": "bad698c7-29cb-40d9-862e-e2046494c56d",
   "metadata": {},
   "source": [
    "✅ URL column dropped as it contained no additional information. The ID in the URL can be obtained from the ID column in the dataset.\n",
    "___"
   ]
  },
  {
   "cell_type": "markdown",
   "id": "9d04c929-a1a5-44c8-aaf8-ff2124975621",
   "metadata": {},
   "source": [
    "### State Address (state_address)"
   ]
  },
  {
   "cell_type": "code",
   "execution_count": 189,
   "id": "3d96c57e-befb-46f6-ad3b-cf7732b75feb",
   "metadata": {},
   "outputs": [
    {
     "data": {
      "text/plain": [
       "array(['issue_date', 'loan_status', 'term_months', 'sub_grade', 'verification_status',\n",
       "       'addr_state'], dtype='<U19')"
      ]
     },
     "execution_count": 189,
     "metadata": {},
     "output_type": "execute_result"
    }
   ],
   "source": [
    "header_strings"
   ]
  },
  {
   "cell_type": "code",
   "execution_count": 190,
   "id": "c87e379f-1401-476e-8ebc-8d544faf51ad",
   "metadata": {},
   "outputs": [
    {
     "data": {
      "text/plain": [
       "array(['issue_date', 'loan_status', 'term_months', 'sub_grade', 'verification_status',\n",
       "       'state_address'], dtype='<U19')"
      ]
     },
     "execution_count": 190,
     "metadata": {},
     "output_type": "execute_result"
    }
   ],
   "source": [
    "header_strings[5] = 'state_address'\n",
    "header_strings"
   ]
  },
  {
   "cell_type": "code",
   "execution_count": 192,
   "id": "9ddd44a2-c0f4-4456-aeda-71d855433ec4",
   "metadata": {},
   "outputs": [
    {
     "data": {
      "text/plain": [
       "array(['CA', 'NY', 'PA', ..., 'CA', 'OH', 'IL'], dtype='<U69')"
      ]
     },
     "execution_count": 192,
     "metadata": {},
     "output_type": "execute_result"
    }
   ],
   "source": [
    "loan_data_strings[:,5]"
   ]
  },
  {
   "cell_type": "code",
   "execution_count": 194,
   "id": "5a135806-c66c-42fa-bd73-043b2520a230",
   "metadata": {},
   "outputs": [
    {
     "data": {
      "text/plain": [
       "array(['', 'AK', 'AL', 'AR', 'AZ', 'CA', 'CO', 'CT', 'DC', 'DE', 'FL', 'GA', 'HI', 'IL', 'IN',\n",
       "       'KS', 'KY', 'LA', 'MA', 'MD', 'ME', 'MI', 'MN', 'MO', 'MS', 'MT', 'NC', 'ND', 'NE', 'NH',\n",
       "       'NJ', 'NM', 'NV', 'NY', 'OH', 'OK', 'OR', 'PA', 'RI', 'SC', 'SD', 'TN', 'TX', 'UT', 'VA',\n",
       "       'VT', 'WA', 'WI', 'WV', 'WY'], dtype='<U69')"
      ]
     },
     "execution_count": 194,
     "metadata": {},
     "output_type": "execute_result"
    }
   ],
   "source": [
    "np.unique(loan_data_strings[:,5])"
   ]
  },
  {
   "cell_type": "code",
   "execution_count": 195,
   "id": "98629baa-052c-4859-b7fc-653c28ddeec6",
   "metadata": {},
   "outputs": [
    {
     "data": {
      "text/plain": [
       "50"
      ]
     },
     "execution_count": 195,
     "metadata": {},
     "output_type": "execute_result"
    }
   ],
   "source": [
    "np.unique(loan_data_strings[:,5]).size"
   ]
  },
  {
   "cell_type": "markdown",
   "id": "c1521237-3d14-4565-8252-d0897c8b88e5",
   "metadata": {},
   "source": [
    "# 🧐\n",
    "We have 50 values, including an empty space, which means we are missing a state.\n",
    "<br>The missing state is Iowa(IA) which was purposefully left as a baseline benchmark"
   ]
  },
  {
   "cell_type": "code",
   "execution_count": 196,
   "id": "82a89973-a271-4fbb-917e-8e5074385190",
   "metadata": {},
   "outputs": [
    {
     "data": {
      "text/plain": [
       "(array(['', 'AK', 'AL', 'AR', 'AZ', 'CA', 'CO', 'CT', 'DC', 'DE', 'FL', 'GA', 'HI', 'IL', 'IN',\n",
       "        'KS', 'KY', 'LA', 'MA', 'MD', 'ME', 'MI', 'MN', 'MO', 'MS', 'MT', 'NC', 'ND', 'NE', 'NH',\n",
       "        'NJ', 'NM', 'NV', 'NY', 'OH', 'OK', 'OR', 'PA', 'RI', 'SC', 'SD', 'TN', 'TX', 'UT', 'VA',\n",
       "        'VT', 'WA', 'WI', 'WV', 'WY'], dtype='<U69'),\n",
       " array([ 500,   26,  119,   74,  220, 1336,  201,  143,   27,   27,  690,  321,   44,  389,  152,\n",
       "          84,   84,  116,  210,  222,   10,  267,  156,  160,   61,   28,  261,   16,   25,   58,\n",
       "         341,   57,  130,  777,  312,   83,  108,  320,   40,  107,   24,  143,  758,   74,  242,\n",
       "          17,  216,  148,   49,   27]))"
      ]
     },
     "execution_count": 196,
     "metadata": {},
     "output_type": "execute_result"
    }
   ],
   "source": [
    "np.unique(loan_data_strings[:,5], return_counts = True)"
   ]
  },
  {
   "cell_type": "markdown",
   "id": "a20bcd0c-0455-4de4-b165-cd72502d4cb0",
   "metadata": {},
   "source": [
    "# 🧐\n",
    "It will make more sense to sort these arrays in descending order according to the number of times a state appears in this column."
   ]
  },
  {
   "cell_type": "code",
   "execution_count": 197,
   "id": "b0380fa9-496a-4341-9246-fb1ba94c3f6f",
   "metadata": {},
   "outputs": [],
   "source": [
    "state_names, state_counts = np.unique(loan_data_strings[:,5], return_counts = True)"
   ]
  },
  {
   "cell_type": "code",
   "execution_count": 198,
   "id": "9128a0fb-b9a7-4df8-ae9f-ecfbca15222d",
   "metadata": {},
   "outputs": [
    {
     "data": {
      "text/plain": [
       "array(['', 'AK', 'AL', 'AR', 'AZ', 'CA', 'CO', 'CT', 'DC', 'DE', 'FL', 'GA', 'HI', 'IL', 'IN',\n",
       "       'KS', 'KY', 'LA', 'MA', 'MD', 'ME', 'MI', 'MN', 'MO', 'MS', 'MT', 'NC', 'ND', 'NE', 'NH',\n",
       "       'NJ', 'NM', 'NV', 'NY', 'OH', 'OK', 'OR', 'PA', 'RI', 'SC', 'SD', 'TN', 'TX', 'UT', 'VA',\n",
       "       'VT', 'WA', 'WI', 'WV', 'WY'], dtype='<U69')"
      ]
     },
     "execution_count": 198,
     "metadata": {},
     "output_type": "execute_result"
    }
   ],
   "source": [
    "state_names"
   ]
  },
  {
   "cell_type": "code",
   "execution_count": 199,
   "id": "4ef60034-0e09-45de-b7c7-f38c7c6bf87e",
   "metadata": {},
   "outputs": [
    {
     "data": {
      "text/plain": [
       "array([ 500,   26,  119,   74,  220, 1336,  201,  143,   27,   27,  690,  321,   44,  389,  152,\n",
       "         84,   84,  116,  210,  222,   10,  267,  156,  160,   61,   28,  261,   16,   25,   58,\n",
       "        341,   57,  130,  777,  312,   83,  108,  320,   40,  107,   24,  143,  758,   74,  242,\n",
       "         17,  216,  148,   49,   27])"
      ]
     },
     "execution_count": 199,
     "metadata": {},
     "output_type": "execute_result"
    }
   ],
   "source": [
    "state_counts"
   ]
  },
  {
   "cell_type": "code",
   "execution_count": 201,
   "id": "fcbbe257-ec59-4674-bb66-741a7cbf0b96",
   "metadata": {},
   "outputs": [
    {
     "data": {
      "text/plain": [
       "array([ 5, 33, 42, 10,  0, 13, 30, 11, 37, 34, 21, 26, 44, 19,  4, 46, 18,  6, 23, 22, 14, 47,  7,\n",
       "       41, 32,  2, 17, 36, 39, 16, 15, 35, 43,  3, 24, 29, 31, 48, 12, 38, 25,  9,  8, 49,  1, 28,\n",
       "       40, 45, 27, 20])"
      ]
     },
     "execution_count": 201,
     "metadata": {},
     "output_type": "execute_result"
    }
   ],
   "source": [
    "states_count_sorted = np.argsort(-state_counts) #create a descending sorted array\n",
    "states_count_sorted"
   ]
  },
  {
   "cell_type": "code",
   "execution_count": 202,
   "id": "b062cb52-f6d3-4453-bf65-2b39b381e53f",
   "metadata": {},
   "outputs": [
    {
     "data": {
      "text/plain": [
       "(array(['CA', 'NY', 'TX', 'FL', '', 'IL', 'NJ', 'GA', 'PA', 'OH', 'MI', 'NC', 'VA', 'MD', 'AZ',\n",
       "        'WA', 'MA', 'CO', 'MO', 'MN', 'IN', 'WI', 'CT', 'TN', 'NV', 'AL', 'LA', 'OR', 'SC', 'KY',\n",
       "        'KS', 'OK', 'UT', 'AR', 'MS', 'NH', 'NM', 'WV', 'HI', 'RI', 'MT', 'DE', 'DC', 'WY', 'AK',\n",
       "        'NE', 'SD', 'VT', 'ND', 'ME'], dtype='<U69'),\n",
       " array([1336,  777,  758,  690,  500,  389,  341,  321,  320,  312,  267,  261,  242,  222,  220,\n",
       "         216,  210,  201,  160,  156,  152,  148,  143,  143,  130,  119,  116,  108,  107,   84,\n",
       "          84,   83,   74,   74,   61,   58,   57,   49,   44,   40,   28,   27,   27,   27,   26,\n",
       "          25,   24,   17,   16,   10]))"
      ]
     },
     "execution_count": 202,
     "metadata": {},
     "output_type": "execute_result"
    }
   ],
   "source": [
    "state_names[states_count_sorted], state_counts[states_count_sorted] #use states_count_sorted as the index order variable for both the names and counts arrays"
   ]
  },
  {
   "cell_type": "markdown",
   "id": "22a6c122-e3da-48c7-822d-fb575066e3a0",
   "metadata": {},
   "source": [
    "# 🧐\n",
    "There are 500 missing values, which is more than the entries for all but 4 states.\n",
    "<br>We also have very little data to examine each state individually as outliers in such small datasets can have a big influence on the coefficients for less represented states.\n",
    "<br>To solve this problem we will group states according to a common characetistic: regions.\n",
    "<br>First we will assign the value 0 to all empty spaces and not include them in our regions to avoid biassing with variable coefficients."
   ]
  },
  {
   "cell_type": "code",
   "execution_count": 203,
   "id": "f306974f-6746-4dde-90b5-acf34f694104",
   "metadata": {},
   "outputs": [
    {
     "data": {
      "text/plain": [
       "array(['0', 'AK', 'AL', 'AR', 'AZ', 'CA', 'CO', 'CT', 'DC', 'DE', 'FL', 'GA', 'HI', 'IL', 'IN',\n",
       "       'KS', 'KY', 'LA', 'MA', 'MD', 'ME', 'MI', 'MN', 'MO', 'MS', 'MT', 'NC', 'ND', 'NE', 'NH',\n",
       "       'NJ', 'NM', 'NV', 'NY', 'OH', 'OK', 'OR', 'PA', 'RI', 'SC', 'SD', 'TN', 'TX', 'UT', 'VA',\n",
       "       'VT', 'WA', 'WI', 'WV', 'WY'], dtype='<U69')"
      ]
     },
     "execution_count": 203,
     "metadata": {},
     "output_type": "execute_result"
    }
   ],
   "source": [
    "loan_data_strings[:,5] = np.where(loan_data_strings[:,5] == '',\n",
    "                                  0,\n",
    "                                  loan_data_strings[:,5])\n",
    "np.unique(loan_data_strings[:,5])"
   ]
  },
  {
   "cell_type": "code",
   "execution_count": 204,
   "id": "517ae3c8-da07-407a-840a-375d0c1adf18",
   "metadata": {},
   "outputs": [],
   "source": [
    "#create 4 arrays, one for each region of the USA and assign states accordingly\n",
    "states_west = np.array(['WA', 'OR','CA','NV','ID','MT', 'WY','UT','CO', 'AZ','NM','HI','AK'])\n",
    "states_south = np.array(['TX','OK','AR','LA','MS','AL','TN','KY','FL','GA','SC','NC','VA','WV','MD','DE','DC'])\n",
    "states_midwest = np.array(['ND','SD','NE','KS','MN','IA','MO','WI','IL','IN','MI','OH'])\n",
    "states_east = np.array(['PA','NY','NJ','CT','MA','VT','NH','ME','RI'])"
   ]
  },
  {
   "cell_type": "code",
   "execution_count": 205,
   "id": "3afbf947-b5be-4ff1-bc8d-2b8aacaf3401",
   "metadata": {},
   "outputs": [],
   "source": [
    "loan_data_strings[:,5] = np.where(np.isin(loan_data_strings[:,5], states_west), 1, loan_data_strings[:,5])    #checks weather the value in state_address is in the state_west array and assigns a 1 if true, else leave as is if false\n",
    "loan_data_strings[:,5] = np.where(np.isin(loan_data_strings[:,5], states_south), 2, loan_data_strings[:,5])   #checks weather the value in state_address is in the state_south array and assigns a 2 if true, else leave as is if false\n",
    "loan_data_strings[:,5] = np.where(np.isin(loan_data_strings[:,5], states_midwest), 3, loan_data_strings[:,5])   #checks weather the value in state_address is in the state_midwest array and assigns a 3 if true, else leave as is if false\n",
    "loan_data_strings[:,5] = np.where(np.isin(loan_data_strings[:,5], states_east), 4, loan_data_strings[:,5])   #checks weather the value in state_address is in the state_east array and assigns a 4 if true, else leave as is if false"
   ]
  },
  {
   "cell_type": "code",
   "execution_count": 206,
   "id": "58b6e0e4-b395-418d-a959-0e8dbb620055",
   "metadata": {},
   "outputs": [
    {
     "data": {
      "text/plain": [
       "array(['0', '1', '2', '3', '4'], dtype='<U69')"
      ]
     },
     "execution_count": 206,
     "metadata": {},
     "output_type": "execute_result"
    }
   ],
   "source": [
    "np.unique(loan_data_strings[:,5])"
   ]
  },
  {
   "cell_type": "markdown",
   "id": "66eab2aa-e9a6-437a-afb9-bc4b33ceaef3",
   "metadata": {},
   "source": [
    "✅ All states have been grouped according to one of four USA regions.\n",
    "<br>All empty spaces were assigned the value of 0\n",
    "___"
   ]
  },
  {
   "cell_type": "markdown",
   "id": "896936de-3a1a-444a-bdb9-ef946ab222df",
   "metadata": {},
   "source": [
    "### Converting to numbers"
   ]
  },
  {
   "cell_type": "code",
   "execution_count": 207,
   "id": "edb29d2f-5ea7-4715-b627-fa7b3cb83de0",
   "metadata": {},
   "outputs": [
    {
     "data": {
      "text/plain": [
       "array([['5', '1', '36', '13', '1', '1'],\n",
       "       ['0', '1', '36', '5', '1', '4'],\n",
       "       ['9', '1', '36', '10', '1', '4'],\n",
       "       ...,\n",
       "       ['6', '1', '36', '5', '1', '1'],\n",
       "       ['4', '1', '36', '17', '1', '3'],\n",
       "       ['12', '1', '36', '4', '0', '3']], dtype='<U69')"
      ]
     },
     "execution_count": 207,
     "metadata": {},
     "output_type": "execute_result"
    }
   ],
   "source": [
    "loan_data_strings #all values, although numbers, are still in string format"
   ]
  },
  {
   "cell_type": "code",
   "execution_count": 209,
   "id": "9862ec71-0836-4d4c-888d-cd29706b2d41",
   "metadata": {},
   "outputs": [
    {
     "data": {
      "text/plain": [
       "array([[ 5,  1, 36, 13,  1,  1],\n",
       "       [ 0,  1, 36,  5,  1,  4],\n",
       "       [ 9,  1, 36, 10,  1,  4],\n",
       "       ...,\n",
       "       [ 6,  1, 36,  5,  1,  1],\n",
       "       [ 4,  1, 36, 17,  1,  3],\n",
       "       [12,  1, 36,  4,  0,  3]])"
      ]
     },
     "execution_count": 209,
     "metadata": {},
     "output_type": "execute_result"
    }
   ],
   "source": [
    "loan_data_strings = loan_data_strings.astype(int)\n",
    "loan_data_strings"
   ]
  },
  {
   "cell_type": "markdown",
   "id": "d384daa8-3cb7-4939-abea-056bd2d2bf19",
   "metadata": {},
   "source": [
    "✅ All values in data_strings converted to integer numbers\n",
    "___"
   ]
  },
  {
   "cell_type": "markdown",
   "id": "ec2b2282-96f7-4ef3-b5f8-56bb2f777a2e",
   "metadata": {},
   "source": [
    "# 🔐"
   ]
  },
  {
   "cell_type": "markdown",
   "id": "5d07b5a3-5773-4f18-b854-15970fb476da",
   "metadata": {},
   "source": [
    "## Checkpoint 1: Strings"
   ]
  },
  {
   "cell_type": "code",
   "execution_count": 210,
   "id": "cce31179-0919-44ad-9e12-0f962380e8fa",
   "metadata": {},
   "outputs": [],
   "source": [
    "checkpoint_strings = checkpoint('Checkpoint-Strings', header_strings, loan_data_strings)"
   ]
  },
  {
   "cell_type": "code",
   "execution_count": 211,
   "id": "4d3747ae-d254-4cfe-88eb-f576693cdb5d",
   "metadata": {},
   "outputs": [
    {
     "data": {
      "text/plain": [
       "array(['issue_date', 'loan_status', 'term_months', 'sub_grade', 'verification_status',\n",
       "       'state_address'], dtype='<U19')"
      ]
     },
     "execution_count": 211,
     "metadata": {},
     "output_type": "execute_result"
    }
   ],
   "source": [
    "checkpoint_strings['header']"
   ]
  },
  {
   "cell_type": "code",
   "execution_count": 212,
   "id": "47938baa-f1d8-4fdf-8f03-15c854b91093",
   "metadata": {},
   "outputs": [
    {
     "data": {
      "text/plain": [
       "array([[ 5,  1, 36, 13,  1,  1],\n",
       "       [ 0,  1, 36,  5,  1,  4],\n",
       "       [ 9,  1, 36, 10,  1,  4],\n",
       "       ...,\n",
       "       [ 6,  1, 36,  5,  1,  1],\n",
       "       [ 4,  1, 36, 17,  1,  3],\n",
       "       [12,  1, 36,  4,  0,  3]])"
      ]
     },
     "execution_count": 212,
     "metadata": {},
     "output_type": "execute_result"
    }
   ],
   "source": [
    "checkpoint_strings['data']"
   ]
  },
  {
   "cell_type": "code",
   "execution_count": 213,
   "id": "c42b8c49-1e8b-4200-a17b-087a10ea2e66",
   "metadata": {},
   "outputs": [
    {
     "data": {
      "text/plain": [
       "True"
      ]
     },
     "execution_count": 213,
     "metadata": {},
     "output_type": "execute_result"
    }
   ],
   "source": [
    "np.array_equal(loan_data_strings, checkpoint_strings['data'])"
   ]
  },
  {
   "cell_type": "markdown",
   "id": "de6f0518-c3b3-4d2c-bb02-6256f70d2168",
   "metadata": {},
   "source": [
    "✅ Checkpoint for string dataset successfully created and saved\n",
    "___"
   ]
  },
  {
   "cell_type": "markdown",
   "id": "f660b39d-7f24-4946-8cf2-33ff7f1d6d0a",
   "metadata": {},
   "source": [
    "## Manipulating Numeric Columns"
   ]
  },
  {
   "cell_type": "code",
   "execution_count": 284,
   "id": "2123a10e-93c0-4723-b38f-10360edd5ac3",
   "metadata": {},
   "outputs": [
    {
     "data": {
      "text/plain": [
       "array([[48010226.  ,    35000.  ,    35000.  ,       13.33,     1184.86,     9452.96],\n",
       "       [57693261.  ,    30000.  ,    30000.  , 68616520.  ,      938.57,     4679.7 ],\n",
       "       [59432726.  ,    15000.  ,    15000.  , 68616520.  ,      494.86,     1969.83],\n",
       "       ...,\n",
       "       [50415990.  ,    10000.  ,    10000.  , 68616520.  , 68616520.  ,     2185.64],\n",
       "       [46154151.  , 68616520.  ,    10000.  ,       16.55,      354.3 ,     3199.4 ],\n",
       "       [66055249.  ,    10000.  ,    10000.  , 68616520.  ,      309.97,      301.9 ]])"
      ]
     },
     "execution_count": 284,
     "metadata": {},
     "output_type": "execute_result"
    }
   ],
   "source": [
    "loan_data_numeric"
   ]
  },
  {
   "cell_type": "code",
   "execution_count": 285,
   "id": "24ca3812-125f-4058-9535-0387c3e8522e",
   "metadata": {},
   "outputs": [
    {
     "data": {
      "text/plain": [
       "0"
      ]
     },
     "execution_count": 285,
     "metadata": {},
     "output_type": "execute_result"
    }
   ],
   "source": [
    "np.isnan(loan_data_numeric).sum()"
   ]
  },
  {
   "cell_type": "markdown",
   "id": "16cf6ecc-3ba3-4614-8ce1-35a551e99597",
   "metadata": {},
   "source": [
    "# 🧐\n",
    "Currently no NaN values because we replaced them with the temporary_fill (temporary_fill = np.nanmax(raw_data_np) + 1)\n",
    "<br>We will check to see which columns contain the temporary_fill value"
   ]
  },
  {
   "cell_type": "markdown",
   "id": "37f808ec-911d-413d-b0f0-f1301847377c",
   "metadata": {},
   "source": [
    "### Substitute \"Filler\" Values"
   ]
  },
  {
   "cell_type": "code",
   "execution_count": 216,
   "id": "0a5d5306-4f0e-407f-8101-b8e5f859ec21",
   "metadata": {},
   "outputs": [
    {
     "data": {
      "text/plain": [
       "array(['id', 'loan_amnt', 'funded_amnt', 'int_rate', 'installment', 'total_pymnt'], dtype='<U19')"
      ]
     },
     "execution_count": 216,
     "metadata": {},
     "output_type": "execute_result"
    }
   ],
   "source": [
    "header_numeric"
   ]
  },
  {
   "cell_type": "markdown",
   "id": "41617df3-02cb-4622-abbe-488aea2e9f43",
   "metadata": {},
   "source": [
    "### ID (id)"
   ]
  },
  {
   "cell_type": "code",
   "execution_count": 217,
   "id": "fd8dc4d2-9507-42d1-8456-65985253ae52",
   "metadata": {},
   "outputs": [
    {
     "data": {
      "text/plain": [
       "68616520.0"
      ]
     },
     "execution_count": 217,
     "metadata": {},
     "output_type": "execute_result"
    }
   ],
   "source": [
    "temporary_fill"
   ]
  },
  {
   "cell_type": "code",
   "execution_count": 219,
   "id": "0787d200-6801-4a0e-b6af-e9cd0f6d56ed",
   "metadata": {},
   "outputs": [
    {
     "data": {
      "text/plain": [
       "array([False, False, False, ..., False, False, False])"
      ]
     },
     "execution_count": 219,
     "metadata": {},
     "output_type": "execute_result"
    }
   ],
   "source": [
    "np.isin(loan_data_numeric[:,0], temporary_fill)"
   ]
  },
  {
   "cell_type": "code",
   "execution_count": 220,
   "id": "c7806f08-49c6-4d71-9cfa-19b65d77b76a",
   "metadata": {},
   "outputs": [
    {
     "data": {
      "text/plain": [
       "0"
      ]
     },
     "execution_count": 220,
     "metadata": {},
     "output_type": "execute_result"
    }
   ],
   "source": [
    "np.isin(loan_data_numeric[:,0], temporary_fill).sum() #how many times we obtain true"
   ]
  },
  {
   "cell_type": "markdown",
   "id": "45875250-53e2-4565-8342-a1fb8c956d0c",
   "metadata": {},
   "source": [
    "✅ id column\n",
    "___"
   ]
  },
  {
   "cell_type": "markdown",
   "id": "cdb2e6ea-773b-4396-bd26-b44ddae8dfea",
   "metadata": {},
   "source": [
    "# 🧐\n",
    "#### Temporary Stats"
   ]
  },
  {
   "cell_type": "code",
   "execution_count": 224,
   "id": "4b8b93ab-6a15-43c6-b2a3-e9fb27de67f8",
   "metadata": {},
   "outputs": [
    {
     "data": {
      "text/plain": [
       "array(['id', 'loan_amnt', 'funded_amnt', 'int_rate', 'installment', 'total_pymnt'], dtype='<U19')"
      ]
     },
     "execution_count": 224,
     "metadata": {},
     "output_type": "execute_result"
    }
   ],
   "source": [
    "header_numeric"
   ]
  },
  {
   "cell_type": "code",
   "execution_count": 223,
   "id": "76e300c0-9c03-494d-9341-7671aa90e5e8",
   "metadata": {},
   "outputs": [
    {
     "data": {
      "text/plain": [
       "array([[  373332.  ,         nan,     1000.  ,         nan,     1000.  ,         nan,        6.  ,\n",
       "              31.42,         nan,         nan,         nan,         nan,         nan,        0.  ],\n",
       "       [54015809.19,         nan,    15273.46,         nan,    15311.04,         nan,       16.62,\n",
       "             440.92,         nan,         nan,         nan,         nan,         nan,     3143.85],\n",
       "       [68616519.  ,         nan,    35000.  ,         nan,    35000.  ,         nan,       28.99,\n",
       "            1372.97,         nan,         nan,         nan,         nan,         nan,    41913.62]])"
      ]
     },
     "execution_count": 223,
     "metadata": {},
     "output_type": "execute_result"
    }
   ],
   "source": [
    "temporary_stats"
   ]
  },
  {
   "cell_type": "code",
   "execution_count": 222,
   "id": "c54cfc33-9c88-4e06-a01e-178cce7c695a",
   "metadata": {},
   "outputs": [
    {
     "data": {
      "text/plain": [
       "array([[  373332.  ,     1000.  ,     1000.  ,        6.  ,       31.42,        0.  ],\n",
       "       [54015809.19,    15273.46,    15311.04,       16.62,      440.92,     3143.85],\n",
       "       [68616519.  ,    35000.  ,    35000.  ,       28.99,     1372.97,    41913.62]])"
      ]
     },
     "execution_count": 222,
     "metadata": {},
     "output_type": "execute_result"
    }
   ],
   "source": [
    "temporary_stats[:, columns_numeric] #only interested in numeric data here"
   ]
  },
  {
   "cell_type": "markdown",
   "id": "0e60fb6e-ed17-4e19-bea5-59eececde402",
   "metadata": {},
   "source": [
    "- First row = min\n",
    "- Second row = mean\n",
    "- Third row = max\n",
    "\n",
    "Funded_Amount is the only column for which we want to set the filler value equal to the minimum, since we assume the worst we assume that\n",
    "<br>for those empty spaces the customer supplied the minimum amount possible"
   ]
  },
  {
   "cell_type": "markdown",
   "id": "8a8a0d23-dda4-4cac-93e1-4e3747fe411c",
   "metadata": {},
   "source": [
    "___"
   ]
  },
  {
   "cell_type": "markdown",
   "id": "d0f9b7b9-1d0f-41e6-9314-0670e4f94765",
   "metadata": {},
   "source": [
    "### Funded Amount (funded_amnt)"
   ]
  },
  {
   "cell_type": "code",
   "execution_count": 286,
   "id": "c0a7de59-4ce9-49bd-b8e8-7a93e041d7d1",
   "metadata": {},
   "outputs": [
    {
     "data": {
      "text/plain": [
       "'funded_amnt'"
      ]
     },
     "execution_count": 286,
     "metadata": {},
     "output_type": "execute_result"
    }
   ],
   "source": [
    "header_numeric[2]"
   ]
  },
  {
   "cell_type": "code",
   "execution_count": 226,
   "id": "89bc3632-7741-42b4-9695-8a3351d861c1",
   "metadata": {},
   "outputs": [
    {
     "data": {
      "text/plain": [
       "array([35000., 30000., 15000., ..., 10000., 10000., 10000.])"
      ]
     },
     "execution_count": 226,
     "metadata": {},
     "output_type": "execute_result"
    }
   ],
   "source": [
    "loan_data_numeric[:,2]"
   ]
  },
  {
   "cell_type": "code",
   "execution_count": 227,
   "id": "70622cd3-8913-4eb9-b237-83d5019d7440",
   "metadata": {},
   "outputs": [
    {
     "data": {
      "text/plain": [
       "500"
      ]
     },
     "execution_count": 227,
     "metadata": {},
     "output_type": "execute_result"
    }
   ],
   "source": [
    "np.isin(loan_data_numeric[:,2], temporary_fill).sum()"
   ]
  },
  {
   "cell_type": "code",
   "execution_count": 287,
   "id": "5b2ff2b5-1762-45ba-a2cd-e8bcdd089b21",
   "metadata": {},
   "outputs": [
    {
     "data": {
      "text/plain": [
       "array([35000., 30000., 15000., ..., 10000., 10000., 10000.])"
      ]
     },
     "execution_count": 287,
     "metadata": {},
     "output_type": "execute_result"
    }
   ],
   "source": [
    "loan_data_numeric[:,2] = np.where(loan_data_numeric[:,2] == temporary_fill,\n",
    "                                  temporary_stats[0, columns_numeric[2]],      #min_value = first_row and second_column of the temporary_stats array of the numeric values only\n",
    "                                  loan_data_numeric[:,2])\n",
    "loan_data_numeric[:,2]"
   ]
  },
  {
   "cell_type": "code",
   "execution_count": 229,
   "id": "4a9072c7-9058-482e-9941-39d6236465aa",
   "metadata": {},
   "outputs": [
    {
     "data": {
      "text/plain": [
       "0"
      ]
     },
     "execution_count": 229,
     "metadata": {},
     "output_type": "execute_result"
    }
   ],
   "source": [
    "np.isin(loan_data_numeric[:,2], temporary_fill).sum()"
   ]
  },
  {
   "cell_type": "markdown",
   "id": "a5edad7b-0c28-4e52-8078-74f261516d6d",
   "metadata": {},
   "source": [
    "✅ All NaN values in in funded_amnt have been replaced with the min value\n",
    "___"
   ]
  },
  {
   "cell_type": "markdown",
   "id": "0776aeef-7717-446a-98af-e510fa9a1967",
   "metadata": {},
   "source": [
    "### Loaned Amount (loan_amnt), Interest Rate (int_rate), Installment (installment), Total Payment (total_paymnt)"
   ]
  },
  {
   "cell_type": "code",
   "execution_count": 231,
   "id": "893fd852-6335-47f5-847e-06f0208f87ef",
   "metadata": {},
   "outputs": [
    {
     "data": {
      "text/plain": [
       "array(['id', 'loan_amnt', 'funded_amnt', 'int_rate', 'installment', 'total_pymnt'], dtype='<U19')"
      ]
     },
     "execution_count": 231,
     "metadata": {},
     "output_type": "execute_result"
    }
   ],
   "source": [
    "header_numeric"
   ]
  },
  {
   "cell_type": "markdown",
   "id": "1207e506-a037-4821-8fda-4a95e8b86e3f",
   "metadata": {},
   "source": [
    "For all these variables, NaN values will be replaced with the maximum value of each column, stored in temporary_stats"
   ]
  },
  {
   "cell_type": "code",
   "execution_count": 288,
   "id": "a4121243-0974-4739-a2b7-2fd7b8b6aca1",
   "metadata": {},
   "outputs": [],
   "source": [
    "for i in [1,3,4,5]:\n",
    "    loan_data_numeric[:,i] = np.where(loan_data_numeric[:,i] == temporary_fill,\n",
    "                                      temporary_stats[2, columns_numeric[i]],\n",
    "                                      loan_data_numeric[:,i])"
   ]
  },
  {
   "cell_type": "code",
   "execution_count": 289,
   "id": "ab495fc0-d5d9-48a7-841d-8588883b9f32",
   "metadata": {},
   "outputs": [
    {
     "data": {
      "text/plain": [
       "array([[48010226.  ,    35000.  ,    35000.  ,       13.33,     1184.86,     9452.96],\n",
       "       [57693261.  ,    30000.  ,    30000.  ,       28.99,      938.57,     4679.7 ],\n",
       "       [59432726.  ,    15000.  ,    15000.  ,       28.99,      494.86,     1969.83],\n",
       "       ...,\n",
       "       [50415990.  ,    10000.  ,    10000.  ,       28.99,     1372.97,     2185.64],\n",
       "       [46154151.  ,    35000.  ,    10000.  ,       16.55,      354.3 ,     3199.4 ],\n",
       "       [66055249.  ,    10000.  ,    10000.  ,       28.99,      309.97,      301.9 ]])"
      ]
     },
     "execution_count": 289,
     "metadata": {},
     "output_type": "execute_result"
    }
   ],
   "source": [
    "loan_data_numeric"
   ]
  },
  {
   "cell_type": "markdown",
   "id": "cc3f98b4-a6a4-46c5-bf2e-f8fa13b31a3c",
   "metadata": {},
   "source": [
    "✅ All NaN values have been replaced with the max value for respectiv e columns\n",
    "___"
   ]
  },
  {
   "cell_type": "markdown",
   "id": "78390e27-162c-4f9a-82f0-3917df2b5fdf",
   "metadata": {},
   "source": [
    "### Excahnge Rate"
   ]
  },
  {
   "cell_type": "markdown",
   "id": "3f25f6c4-fa1c-47f4-b97c-b04f52301b86",
   "metadata": {},
   "source": [
    "# 🧐\n",
    "We need the exchange rates of each loan application at the time of each application\n",
    "<br>The file EUR-USD.csv containes the average monthly exchange rate for 2015"
   ]
  },
  {
   "cell_type": "code",
   "execution_count": 234,
   "id": "28cef7b8-b37f-412b-994b-1e3d8d5d13c9",
   "metadata": {},
   "outputs": [
    {
     "data": {
      "text/plain": [
       "array([['Open', 'High', 'Low', 'Close', 'Volume'],\n",
       "       ['1.2098628282546997', '1.2098628282546997', '1.11055588722229', '1.1287955045700073', '0'],\n",
       "       ['1.1287955045700073', '1.1484194993972778', '1.117680549621582', '1.1205360889434814',\n",
       "        '0'],\n",
       "       ['1.119795799255371', '1.1240400075912476', '1.0460032224655151', '1.0830246210098267',\n",
       "        '0'],\n",
       "       ['1.0741022825241089', '1.1247594356536865', '1.0521597862243652', '1.1114321947097778',\n",
       "        '0'],\n",
       "       ['1.1215037107467651', '1.145304799079895', '1.0821995735168457', '1.0960345268249512',\n",
       "        '0'],\n",
       "       ['1.095902442932129', '1.1428401470184326', '1.0888904333114624', '1.122296690940857', '0'],\n",
       "       ['1.1134989261627197', '1.1219995021820068', '1.081270456314087', '1.0939244031906128',\n",
       "        '0'],\n",
       "       ['1.0969001054763794', '1.1705996990203857', '1.0850305557250977', '1.1340054273605347',\n",
       "        '0'],\n",
       "       ['1.1225990056991577', '1.1460003852844238', '1.1089695692062378', '1.1255937814712524',\n",
       "        '0'],\n",
       "       ['1.1171561479568481', '1.1494200229644775', '1.0910003185272217', '1.100897192955017',\n",
       "        '0'],\n",
       "       ['1.1024993658065796', '1.1060001850128174', '1.056400179862976', '1.0583018064498901',\n",
       "        '0'],\n",
       "       ['1.0572947263717651', '1.107000470161438', '1.0541995763778687', '1.093398094177246', '0']],\n",
       "      dtype='<U18')"
      ]
     },
     "execution_count": 234,
     "metadata": {},
     "output_type": "execute_result"
    }
   ],
   "source": [
    "EUR_USD = np.genfromtxt('EUR-USD.csv', delimiter = ',', autostrip = True, dtype = str)\n",
    "EUR_USD"
   ]
  },
  {
   "cell_type": "markdown",
   "id": "bb132308-af23-430a-b889-953769e0c8fe",
   "metadata": {},
   "source": [
    "We will use the closing price as the exchange rate"
   ]
  },
  {
   "cell_type": "code",
   "execution_count": 235,
   "id": "39aac08b-dfe2-432f-8439-d80fa850894b",
   "metadata": {},
   "outputs": [
    {
     "data": {
      "text/plain": [
       "array([1.13, 1.12, 1.08, 1.11, 1.1 , 1.12, 1.09, 1.13, 1.13, 1.1 , 1.06, 1.09])"
      ]
     },
     "execution_count": 235,
     "metadata": {},
     "output_type": "execute_result"
    }
   ],
   "source": [
    "#importing the closing value for each month (Jan-Dec) only as the average exchange rate for that month\n",
    "EUR_USD = np.genfromtxt('EUR-USD.csv', delimiter = ',', autostrip = True, skip_header = True, usecols = 3)\n",
    "EUR_USD"
   ]
  },
  {
   "cell_type": "code",
   "execution_count": 236,
   "id": "d2f4d042-a574-4399-9d1e-f6061e87d479",
   "metadata": {},
   "outputs": [
    {
     "data": {
      "text/plain": [
       "array([ 5,  0,  9, ...,  6,  4, 12])"
      ]
     },
     "execution_count": 236,
     "metadata": {},
     "output_type": "execute_result"
    }
   ],
   "source": [
    "#Since we have months stored as numbers (1-12) in loan_data_strings[:,0]\n",
    "loan_data_strings[:,0]\n",
    "#0 where data was not provided"
   ]
  },
  {
   "cell_type": "code",
   "execution_count": 290,
   "id": "f72d3a09-041d-46ce-88a9-78eb092586b4",
   "metadata": {},
   "outputs": [
    {
     "data": {
      "text/plain": [
       "array([1.1 , 1.11, 1.13, ..., 1.12, 1.11, 1.09])"
      ]
     },
     "execution_count": 290,
     "metadata": {},
     "output_type": "execute_result"
    }
   ],
   "source": [
    "exchange_rate = loan_data_strings[:,0]\n",
    "\n",
    "for i in range(1,13):\n",
    "    exchange_rate = np.where(exchange_rate == i,\n",
    "                             EUR_USD[i-1],\n",
    "                             exchange_rate)\n",
    "    \n",
    "#all zero values will be replaced by the annual mean\n",
    "for i in range(1,13):                 \n",
    "    exchange_rate = np.where(exchange_rate == 0,\n",
    "                             np.mean(EUR_USD),\n",
    "                             exchange_rate)\n",
    "    \n",
    "exchange_rate"
   ]
  },
  {
   "cell_type": "code",
   "execution_count": 241,
   "id": "90be5d8a-50fc-4e15-9a71-441fc0254a96",
   "metadata": {},
   "outputs": [
    {
     "data": {
      "text/plain": [
       "(10000,)"
      ]
     },
     "execution_count": 241,
     "metadata": {},
     "output_type": "execute_result"
    }
   ],
   "source": [
    "exchange_rate.shape"
   ]
  },
  {
   "cell_type": "code",
   "execution_count": 242,
   "id": "31f6c8d8-761f-4288-b465-324a54b36c0a",
   "metadata": {},
   "outputs": [
    {
     "data": {
      "text/plain": [
       "(10000, 6)"
      ]
     },
     "execution_count": 242,
     "metadata": {},
     "output_type": "execute_result"
    }
   ],
   "source": [
    "loan_data_numeric.shape"
   ]
  },
  {
   "cell_type": "code",
   "execution_count": 293,
   "id": "ec0ca1a3-7c38-4a1f-b240-b7ad6c189380",
   "metadata": {},
   "outputs": [],
   "source": [
    "#Because you can't add a 1 dimensional array to a 2 dimensional array, we have to reshape our exchange_rate array to the same dimensions\n",
    "exchange_rate = np.reshape(exchange_rate, (10000, 1))"
   ]
  },
  {
   "cell_type": "code",
   "execution_count": 294,
   "id": "630bf12e-e09e-4ecf-a1c5-ee411c7f1a48",
   "metadata": {},
   "outputs": [
    {
     "data": {
      "text/plain": [
       "array([[48010226.  ,    35000.  ,    35000.  , ...,     1184.86,     9452.96,        1.1 ],\n",
       "       [57693261.  ,    30000.  ,    30000.  , ...,      938.57,     4679.7 ,        1.11],\n",
       "       [59432726.  ,    15000.  ,    15000.  , ...,      494.86,     1969.83,        1.13],\n",
       "       ...,\n",
       "       [50415990.  ,    10000.  ,    10000.  , ...,     1372.97,     2185.64,        1.12],\n",
       "       [46154151.  ,    35000.  ,    10000.  , ...,      354.3 ,     3199.4 ,        1.11],\n",
       "       [66055249.  ,    10000.  ,    10000.  , ...,      309.97,      301.9 ,        1.09]])"
      ]
     },
     "execution_count": 294,
     "metadata": {},
     "output_type": "execute_result"
    }
   ],
   "source": [
    "np.hstack((loan_data_numeric, exchange_rate))"
   ]
  },
  {
   "cell_type": "code",
   "execution_count": 295,
   "id": "59262f0c-e1eb-4234-8359-6737174c709a",
   "metadata": {},
   "outputs": [],
   "source": [
    "loan_data_numeric = np.hstack((loan_data_numeric, exchange_rate))"
   ]
  },
  {
   "cell_type": "code",
   "execution_count": 296,
   "id": "d033429d-81df-4309-9741-41c020a1de25",
   "metadata": {},
   "outputs": [
    {
     "ename": "ValueError",
     "evalue": "all the input arrays must have same number of dimensions, but the array at index 0 has 1 dimension(s) and the array at index 1 has 0 dimension(s)",
     "output_type": "error",
     "traceback": [
      "\u001b[0;31m---------------------------------------------------------------------------\u001b[0m",
      "\u001b[0;31mValueError\u001b[0m                                Traceback (most recent call last)",
      "\u001b[0;32m<ipython-input-296-d6cb5994d26b>\u001b[0m in \u001b[0;36m<module>\u001b[0;34m\u001b[0m\n\u001b[1;32m      1\u001b[0m \u001b[0;31m#This results in a similar error as before. Trying to add a 0 dimensional scalar, the word 'exchange_rate' to a 1-dimensional array is not allowed.\u001b[0m\u001b[0;34m\u001b[0m\u001b[0;34m\u001b[0m\u001b[0;34m\u001b[0m\u001b[0m\n\u001b[1;32m      2\u001b[0m \u001b[0;31m#They have to have similar dimensions.\u001b[0m\u001b[0;34m\u001b[0m\u001b[0;34m\u001b[0m\u001b[0;34m\u001b[0m\u001b[0m\n\u001b[0;32m----> 3\u001b[0;31m \u001b[0mheader_numeric\u001b[0m \u001b[0;34m=\u001b[0m \u001b[0mnp\u001b[0m\u001b[0;34m.\u001b[0m\u001b[0mconcatenate\u001b[0m\u001b[0;34m(\u001b[0m\u001b[0;34m(\u001b[0m\u001b[0mheader_numeric\u001b[0m\u001b[0;34m,\u001b[0m \u001b[0;34m'exchange_rate'\u001b[0m\u001b[0;34m)\u001b[0m\u001b[0;34m)\u001b[0m\u001b[0;34m\u001b[0m\u001b[0;34m\u001b[0m\u001b[0m\n\u001b[0m\u001b[1;32m      4\u001b[0m \u001b[0mheader_numeric\u001b[0m\u001b[0;34m\u001b[0m\u001b[0;34m\u001b[0m\u001b[0m\n",
      "\u001b[0;32m/opt/anaconda3/lib/python3.8/site-packages/numpy/core/overrides.py\u001b[0m in \u001b[0;36mconcatenate\u001b[0;34m(*args, **kwargs)\u001b[0m\n",
      "\u001b[0;31mValueError\u001b[0m: all the input arrays must have same number of dimensions, but the array at index 0 has 1 dimension(s) and the array at index 1 has 0 dimension(s)"
     ]
    }
   ],
   "source": [
    "#This results in a similar error as before. Trying to add a 0 dimensional scalar, the word 'exchange_rate' to a 1-dimensional array is not allowed.\n",
    "#They have to have similar dimensions.\n",
    "header_numeric = np.concatenate((header_numeric, 'exchange_rate'))\n",
    "header_numeric"
   ]
  },
  {
   "cell_type": "code",
   "execution_count": 297,
   "id": "4e1489e3-4d91-40fc-94ac-23b980a60ca7",
   "metadata": {},
   "outputs": [
    {
     "data": {
      "text/plain": [
       "array(['id', 'loan_amnt', 'funded_amnt', 'int_rate', 'installment', 'total_pymnt', 'exchange_rate'],\n",
       "      dtype='<U19')"
      ]
     },
     "execution_count": 297,
     "metadata": {},
     "output_type": "execute_result"
    }
   ],
   "source": [
    "header_numeric = np.concatenate((header_numeric, np.array(['exchange_rate'])))\n",
    "header_numeric"
   ]
  },
  {
   "cell_type": "markdown",
   "id": "5b1acb5d-04ba-47ee-8023-8d980968f54c",
   "metadata": {},
   "source": [
    "✅ \n",
    "- Exchange rate values have been successfully extracted from the EUR-USD.csv file.\n",
    "- The extracted values were stacked on to the loan_data_numeric column as 'exchange_rate'"
   ]
  },
  {
   "cell_type": "markdown",
   "id": "b69f939c-b913-415e-b421-69f1c6483a3b",
   "metadata": {},
   "source": [
    "# 🧐\n",
    "#### From USD to EUR\n",
    "Now that we have our average exchange-rate for each month of 2015 the following columns need to be converted from dollars to euro\n",
    "- loan_amnt (loan_data_numeric[1])\n",
    "- funded_amnt  (loan_data_numeric[2])\n",
    "- installment  (loan_data_numeric[4])\n",
    "- total_paymnt  (loan_data_numeric[5])"
   ]
  },
  {
   "cell_type": "code",
   "execution_count": 260,
   "id": "123aa937-276c-4ae8-9bdd-06b8bae2673b",
   "metadata": {},
   "outputs": [
    {
     "data": {
      "text/plain": [
       "array(['id', 'loan_amnt', 'funded_amnt', 'int_rate', 'installment', 'total_pymnt', 'exchange_rate'],\n",
       "      dtype='<U19')"
      ]
     },
     "execution_count": 260,
     "metadata": {},
     "output_type": "execute_result"
    }
   ],
   "source": [
    "header_numeric"
   ]
  },
  {
   "cell_type": "code",
   "execution_count": 261,
   "id": "a2b3834b-9b8a-487b-9c7d-b8364ea101a6",
   "metadata": {},
   "outputs": [],
   "source": [
    "#Declaring an array with numbers equal to the indices of the columns in the loan_data_numeric array that needs to undergo the currency conversion from dollars to euro\n",
    "columns_dollar = np.array([1,2,4,5])"
   ]
  },
  {
   "cell_type": "code",
   "execution_count": 252,
   "id": "11c708a1-c2cd-47e7-9b79-dc1291b5e5b4",
   "metadata": {},
   "outputs": [
    {
     "data": {
      "text/plain": [
       "array([1.1 , 1.11, 1.13, ..., 1.12, 1.11, 1.09])"
      ]
     },
     "execution_count": 252,
     "metadata": {},
     "output_type": "execute_result"
    }
   ],
   "source": [
    "loan_data_numeric[:,6]"
   ]
  },
  {
   "cell_type": "code",
   "execution_count": 298,
   "id": "8f063485-f5ca-452e-8c33-8e4c30483ecb",
   "metadata": {},
   "outputs": [],
   "source": [
    "#As we iterate through each column in our dataset that has to be converted, every element gets divided by the equivelant row element in the exchange_rate column, thus giving us the converted value.\n",
    "#The result is a 1 dimensional array with the converted values.\n",
    "#Since we can't add a 1-dimensional array to a 2-dimensional array we use the np.reshape function to convert it (np.reshape(....,(10000,1))\n",
    "#The converted array is then horizontally stacked to the loan_data_numeric array\n",
    "for i in columns_dollar:\n",
    "    loan_data_numeric = np.hstack((loan_data_numeric, np.reshape(loan_data_numeric[:,i] / loan_data_numeric[:,6], (10000, 1))))"
   ]
  },
  {
   "cell_type": "code",
   "execution_count": 299,
   "id": "c1b5c225-079b-43ec-bbf1-4a0f3a339cd2",
   "metadata": {},
   "outputs": [
    {
     "data": {
      "text/plain": [
       "array([[48010226.  ,    35000.  ,    35000.  , ...,    31933.3 ,     1081.04,     8624.69],\n",
       "       [57693261.  ,    30000.  ,    30000.  , ...,    27132.46,      848.86,     4232.39],\n",
       "       [59432726.  ,    15000.  ,    15000.  , ...,    13326.3 ,      439.64,     1750.04],\n",
       "       ...,\n",
       "       [50415990.  ,    10000.  ,    10000.  , ...,     8910.3 ,     1223.36,     1947.47],\n",
       "       [46154151.  ,    35000.  ,    10000.  , ...,     8997.4 ,      318.78,     2878.63],\n",
       "       [66055249.  ,    10000.  ,    10000.  , ...,     9145.8 ,      283.49,      276.11]])"
      ]
     },
     "execution_count": 299,
     "metadata": {},
     "output_type": "execute_result"
    }
   ],
   "source": [
    "loan_data_numeric"
   ]
  },
  {
   "cell_type": "code",
   "execution_count": 258,
   "id": "b83584ce-cbc8-4615-adf7-c532c201a9f7",
   "metadata": {},
   "outputs": [
    {
     "data": {
      "text/plain": [
       "(10000, 11)"
      ]
     },
     "execution_count": 258,
     "metadata": {},
     "output_type": "execute_result"
    }
   ],
   "source": [
    "loan_data_numeric.shape"
   ]
  },
  {
   "cell_type": "markdown",
   "id": "e6f997f6-db80-4188-9af2-13b9a1a11e46",
   "metadata": {},
   "source": [
    "✅ \n",
    "- All dollar values have been successfully converted to euros\n",
    "- The results have been stacked to the loan_data_numeric dataset in their respective columns\n",
    "- No origonal dollar value columns have been dropped at this point"
   ]
  },
  {
   "cell_type": "markdown",
   "id": "6f0bddd1-7366-4cd3-a0ca-2cad6b31d7a4",
   "metadata": {},
   "source": [
    "#### Expanding the header"
   ]
  },
  {
   "cell_type": "code",
   "execution_count": 300,
   "id": "f861af79-af73-439e-9e47-f32841102c4f",
   "metadata": {},
   "outputs": [
    {
     "data": {
      "text/plain": [
       "array(['loan_amnt_EUR', 'funded_amnt_EUR', 'installment_EUR', 'total_pymnt_EUR'], dtype='<U15')"
      ]
     },
     "execution_count": 300,
     "metadata": {},
     "output_type": "execute_result"
    }
   ],
   "source": [
    "#iterating through the header_numeric array, again using our columns_dollar as the index range\n",
    "#the value + '_EUR' get stored in a new array\n",
    "header_additional = np.array([column_name + '_EUR' for column_name in header_numeric[columns_dollar]])\n",
    "header_additional"
   ]
  },
  {
   "cell_type": "code",
   "execution_count": 301,
   "id": "2e271598-4f25-4ab1-9aba-219d6a7fcdc1",
   "metadata": {},
   "outputs": [
    {
     "data": {
      "text/plain": [
       "array(['id', 'loan_amnt', 'funded_amnt', 'int_rate', 'installment', 'total_pymnt', 'exchange_rate',\n",
       "       'loan_amnt_EUR', 'funded_amnt_EUR', 'installment_EUR', 'total_pymnt_EUR'], dtype='<U19')"
      ]
     },
     "execution_count": 301,
     "metadata": {},
     "output_type": "execute_result"
    }
   ],
   "source": [
    "header_numeric = np.concatenate((header_numeric, header_additional))\n",
    "header_numeric"
   ]
  },
  {
   "cell_type": "code",
   "execution_count": 302,
   "id": "d78d8bac-8fd9-4fb4-af87-132271023067",
   "metadata": {},
   "outputs": [
    {
     "data": {
      "text/plain": [
       "array(['id', 'loan_amnt_USD', 'funded_amnt_USD', 'int_rate', 'installment_USD', 'total_pymnt_USD',\n",
       "       'exchange_rate', 'loan_amnt_EUR', 'funded_amnt_EUR', 'installment_EUR', 'total_pymnt_EUR'],\n",
       "      dtype='<U19')"
      ]
     },
     "execution_count": 302,
     "metadata": {},
     "output_type": "execute_result"
    }
   ],
   "source": [
    "#Lets also change the names of the original dollar value columns to clearly denote their currency\n",
    "#We only want the columns with dollar values, so once again we make use of our columns_dollar array to define the indices\n",
    "header_numeric[columns_dollar] = np.array([column_name + '_USD' for column_name in header_numeric[columns_dollar]]) #Each column_name is concatenated with _USD\n",
    "header_numeric"
   ]
  },
  {
   "cell_type": "code",
   "execution_count": 266,
   "id": "848b673e-6f45-493f-aabe-655faedc76de",
   "metadata": {},
   "outputs": [],
   "source": [
    "#Improving this even further by rearranging the columns so that amounts in USD and Euros are paired for the same variable\n",
    "columns_index_order  = [0,1,7,2,8,3,4,9,5,10,6]"
   ]
  },
  {
   "cell_type": "code",
   "execution_count": 303,
   "id": "21478efc-1278-471d-a3ba-2cbfbcfca360",
   "metadata": {},
   "outputs": [
    {
     "data": {
      "text/plain": [
       "array(['id', 'loan_amnt_USD', 'loan_amnt_EUR', 'funded_amnt_USD', 'funded_amnt_EUR', 'int_rate',\n",
       "       'installment_USD', 'installment_EUR', 'total_pymnt_USD', 'total_pymnt_EUR', 'exchange_rate'],\n",
       "      dtype='<U19')"
      ]
     },
     "execution_count": 303,
     "metadata": {},
     "output_type": "execute_result"
    }
   ],
   "source": [
    "header_numeric[columns_index_order]"
   ]
  },
  {
   "cell_type": "code",
   "execution_count": 304,
   "id": "45e40337-cd68-49cb-b0bb-dd3b757156df",
   "metadata": {},
   "outputs": [],
   "source": [
    "#Updating column order in header\n",
    "header_numeric = header_numeric[columns_index_order]"
   ]
  },
  {
   "cell_type": "code",
   "execution_count": 305,
   "id": "3ed007cc-6c13-44e6-8cd5-c7ed7a44ac3e",
   "metadata": {},
   "outputs": [
    {
     "data": {
      "text/plain": [
       "array([[48010226.  ,    35000.  ,    35000.  , ...,    31933.3 ,     1081.04,     8624.69],\n",
       "       [57693261.  ,    30000.  ,    30000.  , ...,    27132.46,      848.86,     4232.39],\n",
       "       [59432726.  ,    15000.  ,    15000.  , ...,    13326.3 ,      439.64,     1750.04],\n",
       "       ...,\n",
       "       [50415990.  ,    10000.  ,    10000.  , ...,     8910.3 ,     1223.36,     1947.47],\n",
       "       [46154151.  ,    35000.  ,    10000.  , ...,     8997.4 ,      318.78,     2878.63],\n",
       "       [66055249.  ,    10000.  ,    10000.  , ...,     9145.8 ,      283.49,      276.11]])"
      ]
     },
     "execution_count": 305,
     "metadata": {},
     "output_type": "execute_result"
    }
   ],
   "source": [
    "loan_data_numeric"
   ]
  },
  {
   "cell_type": "code",
   "execution_count": 306,
   "id": "b4e55aee-c1ae-4847-be37-17b32aaa9fb3",
   "metadata": {},
   "outputs": [
    {
     "data": {
      "text/plain": [
       "array([[48010226.  ,    35000.  ,    31933.3 , ...,     9452.96,     8624.69,        1.1 ],\n",
       "       [57693261.  ,    30000.  ,    27132.46, ...,     4679.7 ,     4232.39,        1.11],\n",
       "       [59432726.  ,    15000.  ,    13326.3 , ...,     1969.83,     1750.04,        1.13],\n",
       "       ...,\n",
       "       [50415990.  ,    10000.  ,     8910.3 , ...,     2185.64,     1947.47,        1.12],\n",
       "       [46154151.  ,    35000.  ,    31490.9 , ...,     3199.4 ,     2878.63,        1.11],\n",
       "       [66055249.  ,    10000.  ,     9145.8 , ...,      301.9 ,      276.11,        1.09]])"
      ]
     },
     "execution_count": 306,
     "metadata": {},
     "output_type": "execute_result"
    }
   ],
   "source": [
    "#Updating loan_data_numeric column order to match header \n",
    "loan_data_numeric = loan_data_numeric[:,columns_index_order]\n",
    "loan_data_numeric"
   ]
  },
  {
   "cell_type": "markdown",
   "id": "473efc64-1263-4964-bbbb-87f776621158",
   "metadata": {},
   "source": [
    "✅ \n",
    "- Order of dataset successfully updated to pair USD-EUR versions of the same variabel\n",
    "___"
   ]
  },
  {
   "cell_type": "markdown",
   "id": "dee8cbe7-0b12-4070-9ba7-016ca986f3f8",
   "metadata": {},
   "source": [
    "### Interest Rate (int_rate)"
   ]
  },
  {
   "cell_type": "code",
   "execution_count": 307,
   "id": "ad8b48f7-56f6-4037-a44d-8f8a89d4a09d",
   "metadata": {},
   "outputs": [
    {
     "data": {
      "text/plain": [
       "array(['id', 'loan_amnt_USD', 'loan_amnt_EUR', 'funded_amnt_USD', 'funded_amnt_EUR', 'int_rate',\n",
       "       'installment_USD', 'installment_EUR', 'total_pymnt_USD', 'total_pymnt_EUR', 'exchange_rate'],\n",
       "      dtype='<U19')"
      ]
     },
     "execution_count": 307,
     "metadata": {},
     "output_type": "execute_result"
    }
   ],
   "source": [
    "header_numeric"
   ]
  },
  {
   "cell_type": "code",
   "execution_count": 308,
   "id": "871b71ac-a078-4839-89d8-513e99c47219",
   "metadata": {},
   "outputs": [
    {
     "data": {
      "text/plain": [
       "array([13.33, 28.99, 28.99, ..., 28.99, 16.55, 28.99])"
      ]
     },
     "execution_count": 308,
     "metadata": {},
     "output_type": "execute_result"
    }
   ],
   "source": [
    "loan_data_numeric[:,5]"
   ]
  },
  {
   "cell_type": "markdown",
   "id": "33e1afe3-f73f-4f34-a982-630fea5d2767",
   "metadata": {},
   "source": [
    "# 🧐\n",
    "Values are stored in percentages. Since these are used in calculations it makes sense to **transform them to values between 1 and 0**."
   ]
  },
  {
   "cell_type": "code",
   "execution_count": 309,
   "id": "2f36e131-e54b-4e54-837f-aa3c0d391282",
   "metadata": {},
   "outputs": [
    {
     "data": {
      "text/plain": [
       "array([0.13, 0.29, 0.29, ..., 0.29, 0.17, 0.29])"
      ]
     },
     "execution_count": 309,
     "metadata": {},
     "output_type": "execute_result"
    }
   ],
   "source": [
    "#To achieve this divide the entire column by 100\n",
    "loan_data_numeric[:,5]/100"
   ]
  },
  {
   "cell_type": "code",
   "execution_count": 310,
   "id": "4151df0a-4155-436e-9941-425a0bad7a09",
   "metadata": {},
   "outputs": [
    {
     "data": {
      "text/plain": [
       "array([0.13, 0.29, 0.29, ..., 0.29, 0.17, 0.29])"
      ]
     },
     "execution_count": 310,
     "metadata": {},
     "output_type": "execute_result"
    }
   ],
   "source": [
    "loan_data_numeric[:,5] = loan_data_numeric[:,5]/100\n",
    "loan_data_numeric[:,5]"
   ]
  },
  {
   "cell_type": "markdown",
   "id": "25309d5a-0fa5-4b34-b0b9-cafc12fb8726",
   "metadata": {},
   "source": [
    "✅ \n",
    "- Interest rate has been successfully transformed from percentage values to their equivelant value between 0 and 1\n",
    "___"
   ]
  },
  {
   "cell_type": "markdown",
   "id": "068fdfac-d6de-448b-85f0-b7c258817fdd",
   "metadata": {},
   "source": [
    "# 🔐\n",
    "## Checkpoint 2: Numeric"
   ]
  },
  {
   "cell_type": "code",
   "execution_count": 311,
   "id": "2246a1fe-9454-4674-b26f-2c469bd4642c",
   "metadata": {},
   "outputs": [],
   "source": [
    "#Creating a checkpoint with our previously declared function\n",
    "checkpoint_numeric = checkpoint('Checkpoint-Numeric', header_numeric, loan_data_numeric)"
   ]
  },
  {
   "cell_type": "code",
   "execution_count": 312,
   "id": "e491bf76-cab7-4577-95fc-881aa289705b",
   "metadata": {},
   "outputs": [
    {
     "data": {
      "text/plain": [
       "(array(['id', 'loan_amnt_USD', 'loan_amnt_EUR', 'funded_amnt_USD', 'funded_amnt_EUR', 'int_rate',\n",
       "        'installment_USD', 'installment_EUR', 'total_pymnt_USD', 'total_pymnt_EUR', 'exchange_rate'],\n",
       "       dtype='<U19'),\n",
       " array([[48010226.  ,    35000.  ,    31933.3 , ...,     9452.96,     8624.69,        1.1 ],\n",
       "        [57693261.  ,    30000.  ,    27132.46, ...,     4679.7 ,     4232.39,        1.11],\n",
       "        [59432726.  ,    15000.  ,    13326.3 , ...,     1969.83,     1750.04,        1.13],\n",
       "        ...,\n",
       "        [50415990.  ,    10000.  ,     8910.3 , ...,     2185.64,     1947.47,        1.12],\n",
       "        [46154151.  ,    35000.  ,    31490.9 , ...,     3199.4 ,     2878.63,        1.11],\n",
       "        [66055249.  ,    10000.  ,     9145.8 , ...,      301.9 ,      276.11,        1.09]]))"
      ]
     },
     "execution_count": 312,
     "metadata": {},
     "output_type": "execute_result"
    }
   ],
   "source": [
    "checkpoint_numeric['header'], checkpoint_numeric['data']"
   ]
  },
  {
   "cell_type": "markdown",
   "id": "7ad25118-8468-425c-bcac-d5e6f4c497ed",
   "metadata": {},
   "source": [
    "___"
   ]
  },
  {
   "cell_type": "markdown",
   "id": "06bd36ed-54d2-45c7-aace-226eaa4be153",
   "metadata": {},
   "source": [
    "## Creating the 'Complete' dataset\n",
    "- Combine the preprocessed versions of the string and numeric matrices\n",
    "- Sort\n",
    "- Export to csv"
   ]
  },
  {
   "cell_type": "markdown",
   "id": "8740cd9d-1e55-4ba5-94b6-03f03c078039",
   "metadata": {},
   "source": [
    "#### Combining the datasets"
   ]
  },
  {
   "cell_type": "code",
   "execution_count": 313,
   "id": "fde04c97-546b-4ea1-8b6b-01bd7fa8b402",
   "metadata": {},
   "outputs": [
    {
     "data": {
      "text/plain": [
       "(10000, 6)"
      ]
     },
     "execution_count": 313,
     "metadata": {},
     "output_type": "execute_result"
    }
   ],
   "source": [
    "#make sure that both datasets have the same shape (same number of rows)\n",
    "checkpoint_strings['data'].shape"
   ]
  },
  {
   "cell_type": "code",
   "execution_count": 314,
   "id": "6438c153-d9e8-4692-beff-7ebd141845f0",
   "metadata": {},
   "outputs": [
    {
     "data": {
      "text/plain": [
       "(10000, 11)"
      ]
     },
     "execution_count": 314,
     "metadata": {},
     "output_type": "execute_result"
    }
   ],
   "source": [
    "checkpoint_numeric['data'].shape"
   ]
  },
  {
   "cell_type": "code",
   "execution_count": 315,
   "id": "d30f8d29-9ef0-4352-9347-68cd7be4e5b2",
   "metadata": {},
   "outputs": [
    {
     "data": {
      "text/plain": [
       "(10000, 17)"
      ]
     },
     "execution_count": 315,
     "metadata": {},
     "output_type": "execute_result"
    }
   ],
   "source": [
    "np.hstack((checkpoint_numeric['data'], checkpoint_strings['data'])).shape"
   ]
  },
  {
   "cell_type": "code",
   "execution_count": 316,
   "id": "36f05b65-edde-40f7-90c9-a05ab63bf785",
   "metadata": {},
   "outputs": [],
   "source": [
    "loan_data = np.hstack((checkpoint_numeric['data'], checkpoint_strings['data']))"
   ]
  },
  {
   "cell_type": "code",
   "execution_count": 317,
   "id": "eef974af-216b-45d6-bbde-215d5fe51767",
   "metadata": {},
   "outputs": [
    {
     "data": {
      "text/plain": [
       "array([[48010226.  ,    35000.  ,    31933.3 , ...,       13.  ,        1.  ,        1.  ],\n",
       "       [57693261.  ,    30000.  ,    27132.46, ...,        5.  ,        1.  ,        4.  ],\n",
       "       [59432726.  ,    15000.  ,    13326.3 , ...,       10.  ,        1.  ,        4.  ],\n",
       "       ...,\n",
       "       [50415990.  ,    10000.  ,     8910.3 , ...,        5.  ,        1.  ,        1.  ],\n",
       "       [46154151.  ,    35000.  ,    31490.9 , ...,       17.  ,        1.  ,        3.  ],\n",
       "       [66055249.  ,    10000.  ,     9145.8 , ...,        4.  ,        0.  ,        3.  ]])"
      ]
     },
     "execution_count": 317,
     "metadata": {},
     "output_type": "execute_result"
    }
   ],
   "source": [
    "loan_data"
   ]
  },
  {
   "cell_type": "code",
   "execution_count": 318,
   "id": "dd65655b-8bb4-4724-9531-ad473e58e136",
   "metadata": {},
   "outputs": [
    {
     "data": {
      "text/plain": [
       "0"
      ]
     },
     "execution_count": 318,
     "metadata": {},
     "output_type": "execute_result"
    }
   ],
   "source": [
    "#final check to see if we missed an nan values\n",
    "np.isnan(loan_data).sum()"
   ]
  },
  {
   "cell_type": "code",
   "execution_count": 319,
   "id": "bb743529-23a8-4147-bfdb-e5a6df3cf783",
   "metadata": {},
   "outputs": [
    {
     "data": {
      "text/plain": [
       "array(['id', 'loan_amnt_USD', 'loan_amnt_EUR', 'funded_amnt_USD', 'funded_amnt_EUR', 'int_rate',\n",
       "       'installment_USD', 'installment_EUR', 'total_pymnt_USD', 'total_pymnt_EUR', 'exchange_rate',\n",
       "       'issue_date', 'loan_status', 'term_months', 'sub_grade', 'verification_status',\n",
       "       'state_address'], dtype='<U19')"
      ]
     },
     "execution_count": 319,
     "metadata": {},
     "output_type": "execute_result"
    }
   ],
   "source": [
    "np.concatenate((checkpoint_numeric['header'], checkpoint_strings['header']))"
   ]
  },
  {
   "cell_type": "code",
   "execution_count": 327,
   "id": "9be67687-59e3-4a61-9de9-69a6d5d949a9",
   "metadata": {},
   "outputs": [],
   "source": [
    "header_full = np.concatenate((checkpoint_numeric['header'], checkpoint_strings['header']))"
   ]
  },
  {
   "cell_type": "markdown",
   "id": "499b3925-1bee-46cf-83e6-a2e4d89b0c18",
   "metadata": {},
   "source": [
    "✅  Numeric and Strings dataset successfully combined"
   ]
  },
  {
   "cell_type": "markdown",
   "id": "7fe0911d-e56d-4e38-af75-7e48bb22d3bf",
   "metadata": {},
   "source": [
    "#### Sorting the new Dataset"
   ]
  },
  {
   "cell_type": "code",
   "execution_count": 320,
   "id": "9f74908e-2130-4d74-8ff8-e1316618d7ed",
   "metadata": {},
   "outputs": [
    {
     "data": {
      "text/plain": [
       "array([  373332.,   575239.,   707689., ..., 68614880., 68615915., 68616519.])"
      ]
     },
     "execution_count": 320,
     "metadata": {},
     "output_type": "execute_result"
    }
   ],
   "source": [
    "#It makes sense to sort the array based on the id column\n",
    "np.sort(loan_data[:,0])"
   ]
  },
  {
   "cell_type": "code",
   "execution_count": 321,
   "id": "08bc86ea-4c5c-42f8-abe1-66321da6f71c",
   "metadata": {},
   "outputs": [
    {
     "data": {
      "text/plain": [
       "array([2086, 4812, 2353, ..., 4935, 9388, 8415])"
      ]
     },
     "execution_count": 321,
     "metadata": {},
     "output_type": "execute_result"
    }
   ],
   "source": [
    "np.argsort(loan_data[:,0]) #gives us the inices of each value in the ID column"
   ]
  },
  {
   "cell_type": "code",
   "execution_count": 322,
   "id": "86edc397-3a15-4001-8c89-9678f0e50d80",
   "metadata": {},
   "outputs": [
    {
     "data": {
      "text/plain": [
       "array([[  373332.  ,     9950.  ,     9038.08, ...,       21.  ,        0.  ,        1.  ],\n",
       "       [  575239.  ,    12000.  ,    10900.2 , ...,       25.  ,        1.  ,        2.  ],\n",
       "       [  707689.  ,    10000.  ,     8924.3 , ...,       13.  ,        1.  ,        0.  ],\n",
       "       ...,\n",
       "       [68614880.  ,     5600.  ,     5121.65, ...,        8.  ,        1.  ,        1.  ],\n",
       "       [68615915.  ,     4000.  ,     3658.32, ...,       10.  ,        1.  ,        2.  ],\n",
       "       [68616519.  ,    21600.  ,    19754.93, ...,        3.  ,        0.  ,        2.  ]])"
      ]
     },
     "execution_count": 322,
     "metadata": {},
     "output_type": "execute_result"
    }
   ],
   "source": [
    "#We can use this to sort our entire dataset\n",
    "loan_data[np.argsort(loan_data[:,0])]"
   ]
  },
  {
   "cell_type": "code",
   "execution_count": 323,
   "id": "2fbc9fff-2af8-44db-aacc-d8745d07186e",
   "metadata": {},
   "outputs": [
    {
     "data": {
      "text/plain": [
       "array([[  373332.  ,     9950.  ,     9038.08, ...,       21.  ,        0.  ,        1.  ],\n",
       "       [  575239.  ,    12000.  ,    10900.2 , ...,       25.  ,        1.  ,        2.  ],\n",
       "       [  707689.  ,    10000.  ,     8924.3 , ...,       13.  ,        1.  ,        0.  ],\n",
       "       ...,\n",
       "       [68614880.  ,     5600.  ,     5121.65, ...,        8.  ,        1.  ,        1.  ],\n",
       "       [68615915.  ,     4000.  ,     3658.32, ...,       10.  ,        1.  ,        2.  ],\n",
       "       [68616519.  ,    21600.  ,    19754.93, ...,        3.  ,        0.  ,        2.  ]])"
      ]
     },
     "execution_count": 323,
     "metadata": {},
     "output_type": "execute_result"
    }
   ],
   "source": [
    "#store values in dataset\n",
    "loan_data = loan_data[np.argsort(loan_data[:,0])]\n",
    "loan_data"
   ]
  },
  {
   "cell_type": "code",
   "execution_count": 324,
   "id": "bc4cc321-a8fe-4234-a2e1-554fa5b4daa9",
   "metadata": {},
   "outputs": [
    {
     "data": {
      "text/plain": [
       "array([   0,    1,    2, ..., 9997, 9998, 9999])"
      ]
     },
     "execution_count": 324,
     "metadata": {},
     "output_type": "execute_result"
    }
   ],
   "source": [
    "np.argsort(loan_data[:,0])"
   ]
  },
  {
   "cell_type": "markdown",
   "id": "360ea276-8c42-4a99-8c7b-a6662390d0be",
   "metadata": {},
   "source": [
    "✅ Combined dataset successfully sorted according to ID"
   ]
  },
  {
   "cell_type": "markdown",
   "id": "364f49b8-f73c-4e7d-a020-c3c7fbeebc94",
   "metadata": {},
   "source": [
    "#### Storing and exporting the new dataset"
   ]
  },
  {
   "cell_type": "code",
   "execution_count": 328,
   "id": "5f097910-1380-4dc8-839a-918d9c3e4405",
   "metadata": {},
   "outputs": [
    {
     "data": {
      "text/plain": [
       "array([['id', 'loan_amnt_USD', 'loan_amnt_EUR', ..., 'sub_grade', 'verification_status',\n",
       "        'state_address'],\n",
       "       ['373332.0', '9950.0', '9038.082814338286', ..., '21.0', '0.0', '1.0'],\n",
       "       ['575239.0', '12000.0', '10900.20037910145', ..., '25.0', '1.0', '2.0'],\n",
       "       ...,\n",
       "       ['68614880.0', '5600.0', '5121.647851612413', ..., '8.0', '1.0', '1.0'],\n",
       "       ['68615915.0', '4000.0', '3658.319894008867', ..., '10.0', '1.0', '2.0'],\n",
       "       ['68616519.0', '21600.0', '19754.927427647883', ..., '3.0', '0.0', '2.0']], dtype='<U32')"
      ]
     },
     "execution_count": 328,
     "metadata": {},
     "output_type": "execute_result"
    }
   ],
   "source": [
    "# Lets combine the header and dataset\n",
    "np.vstack((header_full, loan_data))"
   ]
  },
  {
   "cell_type": "code",
   "execution_count": 329,
   "id": "a9e774f0-6f58-46f1-aa1f-776bc869c4ec",
   "metadata": {},
   "outputs": [],
   "source": [
    "loan_data = np.vstack((header_full, loan_data))"
   ]
  },
  {
   "cell_type": "code",
   "execution_count": 330,
   "id": "c104e312-cf60-44d1-99a6-28fcc4aa15f5",
   "metadata": {},
   "outputs": [],
   "source": [
    "np.savetxt('loan-data-preprocessed.txt', \n",
    "            loan_data,\n",
    "            fmt = '%s',\n",
    "            delimiter = ',')"
   ]
  },
  {
   "cell_type": "markdown",
   "id": "09b9b4e4-ea5b-4be8-9a39-1733de26304d",
   "metadata": {},
   "source": [
    "✅ Dataset successfully stored as loan-data-preprocessed.txt\n",
    "___"
   ]
  }
 ],
 "metadata": {
  "kernelspec": {
   "display_name": "Python 3",
   "language": "python",
   "name": "python3"
  },
  "language_info": {
   "codemirror_mode": {
    "name": "ipython",
    "version": 3
   },
   "file_extension": ".py",
   "mimetype": "text/x-python",
   "name": "python",
   "nbconvert_exporter": "python",
   "pygments_lexer": "ipython3",
   "version": "3.8.8"
  }
 },
 "nbformat": 4,
 "nbformat_minor": 5
}
